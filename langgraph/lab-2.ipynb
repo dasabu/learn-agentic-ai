{
 "cells": [
  {
   "cell_type": "code",
   "execution_count": 1,
   "id": "a266f7d5",
   "metadata": {},
   "outputs": [
    {
     "name": "stderr",
     "output_type": "stream",
     "text": [
      "/Users/duyanhle/Desktop/Project/1.in-progress/rag/learn-agentic-ai/.venv/lib/python3.10/site-packages/tqdm/auto.py:21: TqdmWarning: IProgress not found. Please update jupyter and ipywidgets. See https://ipywidgets.readthedocs.io/en/stable/user_install.html\n",
      "  from .autonotebook import tqdm as notebook_tqdm\n"
     ]
    }
   ],
   "source": [
    "import os\n",
    "from IPython.display import Image, display\n",
    "from dotenv import load_dotenv\n",
    "import gradio as gr\n",
    "\n",
    "from typing import Annotated, TypedDict\n",
    "from langchain_openai import ChatOpenAI\n",
    "\n",
    "from langgraph.graph import StateGraph, START, END\n",
    "from langgraph.graph.message import add_messages\n",
    "from langgraph.prebuilt import ToolNode, tools_condition"
   ]
  },
  {
   "cell_type": "code",
   "execution_count": 2,
   "id": "6d8b0904",
   "metadata": {},
   "outputs": [
    {
     "data": {
      "text/plain": [
       "True"
      ]
     },
     "execution_count": 2,
     "metadata": {},
     "output_type": "execute_result"
    }
   ],
   "source": [
    "load_dotenv(override=True)"
   ]
  },
  {
   "cell_type": "markdown",
   "id": "08890921",
   "metadata": {},
   "source": [
    "### Define some tools (Out of the box and Custom)"
   ]
  },
  {
   "cell_type": "code",
   "execution_count": 3,
   "id": "0119befd",
   "metadata": {},
   "outputs": [
    {
     "data": {
      "text/plain": [
       "'68.29 million (2023)'"
      ]
     },
     "execution_count": 3,
     "metadata": {},
     "output_type": "execute_result"
    }
   ],
   "source": [
    "from langchain_community.utilities import GoogleSerperAPIWrapper\n",
    "from langchain.tools import Tool\n",
    "\n",
    "serper = GoogleSerperAPIWrapper()\n",
    "\n",
    "tool_search = Tool(\n",
    "    name='search',\n",
    "    func=serper.run,\n",
    "    description='Useful for when you need more informatuon from an online search'\n",
    ")\n",
    "\n",
    "tool_search.invoke('What is the population of France?')"
   ]
  },
  {
   "cell_type": "code",
   "execution_count": 5,
   "id": "100a662d",
   "metadata": {},
   "outputs": [
    {
     "data": {
      "text/plain": [
       "{'status': 'success'}"
      ]
     },
     "execution_count": 5,
     "metadata": {},
     "output_type": "execute_result"
    }
   ],
   "source": [
    "import sendgrid\n",
    "from sendgrid.helpers.mail import Mail, Email, To, Content\n",
    "\n",
    "def send_email(body: str):\n",
    "    '''Send email with the given body to all sales prospects using SendGrid API'''\n",
    "    sg = sendgrid.SendGridAPIClient(api_key=os.environ.get('SENDGRID_API_KEY'))\n",
    "    from_email = Email('anh.leduy04@hcmut.edu.vn') # Verified sender\n",
    "    to_email = To('duyanhlucas302@gmail.com') # To recipient\n",
    "    subject = 'Test email'\n",
    "    content = Content('text/plain', body)\n",
    "    mail = Mail(from_email, to_email, subject, content).get()\n",
    "    response = sg.client.mail.send.post(request_body=mail)\n",
    "    return {'status': 'success'}\n",
    "\n",
    "# Define tool\n",
    "tool_push = Tool(\n",
    "    name='send_email_tool',\n",
    "    func=send_email,\n",
    "    description='Useful for when you need to send an email to all sales prospects using SendGrid API'\n",
    ")\n",
    "\n",
    "tool_push.invoke('Test')"
   ]
  },
  {
   "cell_type": "code",
   "execution_count": 6,
   "id": "3801d714",
   "metadata": {},
   "outputs": [],
   "source": [
    "tools = [tool_search, tool_push]"
   ]
  },
  {
   "cell_type": "markdown",
   "id": "893c35fe",
   "metadata": {},
   "source": [
    "### Graph\n",
    "\n",
    "One small change - using TypedDict instead of BaseModel"
   ]
  },
  {
   "cell_type": "code",
   "execution_count": 7,
   "id": "2b18530d",
   "metadata": {},
   "outputs": [],
   "source": [
    "# Step 1: Define State object\n",
    "class State(TypedDict):\n",
    "    messages: Annotated[list, add_messages]"
   ]
  },
  {
   "cell_type": "code",
   "execution_count": 8,
   "id": "73939691",
   "metadata": {},
   "outputs": [],
   "source": [
    "# Step 2: Start the graph builder with this State class\n",
    "graph_builder = StateGraph(State)"
   ]
  },
  {
   "cell_type": "markdown",
   "id": "edbefebf",
   "metadata": {},
   "source": [
    "When we implement tools, we always need to make 2 changes to the code:\n",
    "1. Change to provide the tools to OpenAI in json when we make the call\n",
    "2. Change to handle the results back: look for the model staying that the finish_reason == \"tool_calls\" and retrieve the call, run the function and provide the results"
   ]
  },
  {
   "cell_type": "code",
   "execution_count": 9,
   "id": "a5e11ed7",
   "metadata": {},
   "outputs": [],
   "source": [
    "# Different:\n",
    "llm = ChatOpenAI(model='gpt-4o-mini')\n",
    "llm_with_tools = llm.bind_tools(tools) # 1. When call this version, it will provide all tools to OpenAI in json"
   ]
  },
  {
   "cell_type": "code",
   "execution_count": 10,
   "id": "f84bcc31",
   "metadata": {},
   "outputs": [
    {
     "data": {
      "text/plain": [
       "<langgraph.graph.state.StateGraph at 0x128319360>"
      ]
     },
     "execution_count": 10,
     "metadata": {},
     "output_type": "execute_result"
    }
   ],
   "source": [
    "# Step 3: Create the node\n",
    "\n",
    "def chatbot(state: State):\n",
    "    return {\n",
    "        \"messages\": [\n",
    "            llm_with_tools.invoke(state['messages']) # handle request to the LLM and package up the tools in JSON format\n",
    "        ]\n",
    "    }\n",
    "\n",
    "graph_builder.add_node(\"chatbot\", chatbot)\n",
    "# 2. Tool node: Handle when if any message wants to call any of the tools, it will call that tool\n",
    "graph_builder.add_node(\"tools\", ToolNode(tools=tools))"
   ]
  },
  {
   "cell_type": "code",
   "execution_count": 11,
   "id": "599a8d12",
   "metadata": {},
   "outputs": [
    {
     "data": {
      "text/plain": [
       "<langgraph.graph.state.StateGraph at 0x128319360>"
      ]
     },
     "execution_count": 11,
     "metadata": {},
     "output_type": "execute_result"
    }
   ],
   "source": [
    "# Step 4: Create edges\n",
    "\n",
    "# Connect \"chatbot\" node to \"tools\" node (node run actual tools) using condition edge\n",
    "# we only want to call thost tools if the model returns a response that finish_reason===\"tool_calls\"\n",
    "graph_builder.add_conditional_edges(\"chatbot\", tools_condition, \"tools\")\n",
    "\n",
    "# Important: create an edge from \"tool\" back to \"chatbot\"\n",
    "# because the result from \"tools\" must be returned to \"chatbot\", to decide the next step \n",
    "graph_builder.add_edge(\"tools\", \"chatbot\")\n",
    "graph_builder.add_edge(START, \"chatbot\")"
   ]
  },
  {
   "cell_type": "code",
   "execution_count": 12,
   "id": "9eb0ca39",
   "metadata": {},
   "outputs": [
    {
     "data": {
      "image/png": "[encoded data removed]",
      "text/plain": [
       "<IPython.core.display.Image object>"
      ]
     },
     "metadata": {},
     "output_type": "display_data"
    }
   ],
   "source": [
    "# Step 5: Compile graph\n",
    "graph = graph_builder.compile()\n",
    "\n",
    "display(Image(\n",
    "    graph.get_graph().draw_mermaid_png()\n",
    "))"
   ]
  },
  {
   "cell_type": "code",
   "execution_count": 13,
   "id": "c640a7e7",
   "metadata": {},
   "outputs": [
    {
     "name": "stdout",
     "output_type": "stream",
     "text": [
      "* Running on local URL:  http://127.0.0.1:7862\n",
      "* To create a public link, set `share=True` in `launch()`.\n"
     ]
    },
    {
     "data": {
      "text/html": [
       "<div><iframe src=\"http://127.0.0.1:7862/\" width=\"100%\" height=\"500\" allow=\"autoplay; camera; microphone; clipboard-read; clipboard-write;\" frameborder=\"0\" allowfullscreen></iframe></div>"
      ],
      "text/plain": [
       "<IPython.core.display.HTML object>"
      ]
     },
     "metadata": {},
     "output_type": "display_data"
    },
    {
     "data": {
      "text/plain": []
     },
     "execution_count": 13,
     "metadata": {},
     "output_type": "execute_result"
    }
   ],
   "source": [
    "def chat(user_input: str, history):\n",
    "    result = graph.invoke({\"messages\": [{\"role\": \"user\", \"content\": user_input}]})\n",
    "    return result[\"messages\"][-1].content\n",
    "\n",
    "\n",
    "gr.ChatInterface(chat, type=\"messages\").launch()"
   ]
  },
  {
   "cell_type": "markdown",
   "id": "394561b4",
   "metadata": {},
   "source": [
    "Check for Langsmith: https://smith.langchain.com/"
   ]
  },
  {
   "cell_type": "markdown",
   "id": "78fc4110",
   "metadata": {},
   "source": [
    "### Memory\n",
    "\n",
    "Wait... We have this whole Graph maintaining the state and appending to the state.\n",
    "\n",
    "Why isn't this handling memory?\n",
    "\n",
    "This is a crucial point for understanding LangGraph\n",
    "\n",
    "*A super-step can be considered a single iteration over the graph nodes. Nodes that run in parallel are part of the same super-step, while nodes that run sequentially belong to separate super-steps.*\n",
    "\n",
    "One \"Super-Step\" of the graph represents one invocation of passing messages between agents.\n",
    "\n",
    "In idomatic LangGraph, you call invoke to run your graph for each super-step; for each interaction.\n",
    "\n",
    "The reducer handles state updates automatically within one super-step, but not between them.\n",
    "\n",
    "That is what checkpointing achieves."
   ]
  },
  {
   "cell_type": "code",
   "execution_count": 14,
   "id": "86badab9",
   "metadata": {},
   "outputs": [],
   "source": [
    "from langgraph.checkpoint.memory import MemorySaver\n",
    "\n",
    "memory = MemorySaver()"
   ]
  },
  {
   "cell_type": "code",
   "execution_count": 15,
   "id": "164769f7",
   "metadata": {},
   "outputs": [
    {
     "data": {
      "image/png": "[encoded data removed]",
      "text/plain": [
       "<IPython.core.display.Image object>"
      ]
     },
     "metadata": {},
     "output_type": "display_data"
    }
   ],
   "source": [
    "# Step 1 and 2\n",
    "graph_builder = StateGraph(State)\n",
    "\n",
    "# Step 3\n",
    "llm = ChatOpenAI(model='gpt-4o-mini')\n",
    "llm_with_tools = llm.bind_tools(tools=tools)\n",
    "\n",
    "def chatbot(state: State):\n",
    "    print(State)\n",
    "    return {\"messages\": [llm_with_tools.invoke(state['messages'])]}\n",
    "\n",
    "graph_builder.add_node(\"chatbot\", chatbot)\n",
    "graph_builder.add_node(\"tools\", ToolNode(tools=tools))\n",
    "\n",
    "# Step 4\n",
    "graph_builder.add_conditional_edges(\"chatbot\", tools_condition, \"tools\")\n",
    "graph_builder.add_edge(\"tools\", \"chatbot\")\n",
    "graph_builder.add_edge(START, \"chatbot\")\n",
    "\n",
    "# Step 5\n",
    "graph = graph_builder.compile(checkpointer=memory) # checkpoint is used to save the state of the graph\n",
    "display(Image(\n",
    "    graph.get_graph().draw_mermaid_png()\n",
    "))"
   ]
  },
  {
   "cell_type": "code",
   "execution_count": null,
   "id": "0c7765cb",
   "metadata": {},
   "outputs": [
    {
     "name": "stdout",
     "output_type": "stream",
     "text": [
      "* Running on local URL:  http://127.0.0.1:7864\n",
      "* To create a public link, set `share=True` in `launch()`.\n"
     ]
    },
    {
     "data": {
      "text/html": [
       "<div><iframe src=\"http://127.0.0.1:7864/\" width=\"100%\" height=\"500\" allow=\"autoplay; camera; microphone; clipboard-read; clipboard-write;\" frameborder=\"0\" allowfullscreen></iframe></div>"
      ],
      "text/plain": [
       "<IPython.core.display.HTML object>"
      ]
     },
     "metadata": {},
     "output_type": "display_data"
    },
    {
     "data": {
      "text/plain": []
     },
     "execution_count": 17,
     "metadata": {},
     "output_type": "execute_result"
    },
    {
     "name": "stdout",
     "output_type": "stream",
     "text": [
      "<class '__main__.State'>\n",
      "{'messages': [HumanMessage(content='Hi, what is my name?', additional_kwargs={}, response_metadata={}, id='84fc0ee1-5720-432a-97c5-6e05b6462b55'), AIMessage(content=\"I'm sorry, but I don't have that information. If you'd like to share your name, I can remember it for our conversation!\", additional_kwargs={'refusal': None}, response_metadata={'token_usage': {'completion_tokens': 27, 'prompt_tokens': 104, 'total_tokens': 131, 'completion_tokens_details': {'accepted_prediction_tokens': 0, 'audio_tokens': 0, 'reasoning_tokens': 0, 'rejected_prediction_tokens': 0}, 'prompt_tokens_details': {'audio_tokens': 0, 'cached_tokens': 0}}, 'model_name': 'gpt-4o-mini-2024-07-18', 'system_fingerprint': 'fp_34a54ae93c', 'id': 'chatcmpl-Bf7SiX8OPBwgkbWpLSkAqemB9GxCn', 'service_tier': 'default', 'finish_reason': 'stop', 'logprobs': None}, id='run--c2f851e6-502a-447f-aed9-66061ee1b6b7-0', usage_metadata={'input_tokens': 104, 'output_tokens': 27, 'total_tokens': 131, 'input_token_details': {'audio': 0, 'cache_read': 0}, 'output_token_details': {'audio': 0, 'reasoning': 0}}), HumanMessage(content='my name is Anh.', additional_kwargs={}, response_metadata={}, id='70b39635-dc2f-4b13-a1fa-0f22a58fb5ce'), AIMessage(content='Nice to meet you, Anh! How can I assist you today?', additional_kwargs={'refusal': None}, response_metadata={'token_usage': {'completion_tokens': 15, 'prompt_tokens': 143, 'total_tokens': 158, 'completion_tokens_details': {'accepted_prediction_tokens': 0, 'audio_tokens': 0, 'reasoning_tokens': 0, 'rejected_prediction_tokens': 0}, 'prompt_tokens_details': {'audio_tokens': 0, 'cached_tokens': 0}}, 'model_name': 'gpt-4o-mini-2024-07-18', 'system_fingerprint': 'fp_34a54ae93c', 'id': 'chatcmpl-Bf7Spb1MfZLZkHWGKWBepjm7G3uwX', 'service_tier': 'default', 'finish_reason': 'stop', 'logprobs': None}, id='run--318a8cee-9e03-4c83-ab7f-2528a345cc2f-0', usage_metadata={'input_tokens': 143, 'output_tokens': 15, 'total_tokens': 158, 'input_token_details': {'audio': 0, 'cache_read': 0}, 'output_token_details': {'audio': 0, 'reasoning': 0}}), HumanMessage(content='what is my name?', additional_kwargs={}, response_metadata={}, id='cfd62440-e619-4f8b-b087-d06b961fbe98'), AIMessage(content='Your name is Anh! How can I help you today?', additional_kwargs={'refusal': None}, response_metadata={'token_usage': {'completion_tokens': 13, 'prompt_tokens': 170, 'total_tokens': 183, 'completion_tokens_details': {'accepted_prediction_tokens': 0, 'audio_tokens': 0, 'reasoning_tokens': 0, 'rejected_prediction_tokens': 0}, 'prompt_tokens_details': {'audio_tokens': 0, 'cached_tokens': 0}}, 'model_name': 'gpt-4o-mini-2024-07-18', 'system_fingerprint': 'fp_34a54ae93c', 'id': 'chatcmpl-Bf7T7UqaqFSsaQ8aezdjUHbyKi3mc', 'service_tier': 'default', 'finish_reason': 'stop', 'logprobs': None}, id='run--4ed2bae5-615b-4c99-82fa-7f8fb134c776-0', usage_metadata={'input_tokens': 170, 'output_tokens': 13, 'total_tokens': 183, 'input_token_details': {'audio': 0, 'cache_read': 0}, 'output_token_details': {'audio': 0, 'reasoning': 0}})]}\n"
     ]
    }
   ],
   "source": [
    "config = {\"configurable\": {\"thread_id\": \"1\"}} # thread_id is used to identify the conversation\n",
    "\n",
    "def chat(user_input: str, history):\n",
    "    result = graph.invoke(\n",
    "        {\n",
    "            \"messages\": [\n",
    "                {\n",
    "                    \"role\": \"user\",\n",
    "                    \"content\": user_input,\n",
    "                }\n",
    "            ]\n",
    "        },\n",
    "        config=config # make sure to pass the config to the graph to use correct slot of memory\n",
    "    )\n",
    "    print(result)\n",
    "    return result[\"messages\"][-1].content\n",
    "    \n",
    "gr.ChatInterface(chat, type='messages').launch()"
   ]
  },
  {
   "cell_type": "code",
   "execution_count": null,
   "id": "3db425a7",
   "metadata": {},
   "outputs": [
    {
     "name": "stdout",
     "output_type": "stream",
     "text": [
      "* Running on local URL:  http://127.0.0.1:7865\n",
      "* To create a public link, set `share=True` in `launch()`.\n"
     ]
    },
    {
     "data": {
      "text/html": [
       "<div><iframe src=\"http://127.0.0.1:7865/\" width=\"100%\" height=\"500\" allow=\"autoplay; camera; microphone; clipboard-read; clipboard-write;\" frameborder=\"0\" allowfullscreen></iframe></div>"
      ],
      "text/plain": [
       "<IPython.core.display.HTML object>"
      ]
     },
     "metadata": {},
     "output_type": "display_data"
    },
    {
     "data": {
      "text/plain": []
     },
     "execution_count": 18,
     "metadata": {},
     "output_type": "execute_result"
    },
    {
     "name": "stdout",
     "output_type": "stream",
     "text": [
      "<class '__main__.State'>\n",
      "{'messages': [HumanMessage(content='what is my name?', additional_kwargs={}, response_metadata={}, id='bc2015ff-1885-4e43-8522-4c8da87c8506'), AIMessage(content=\"I don't have access to your personal information, including your name. If you'd like me to refer to you by a specific name or if there's something else you'd like to share, feel free to let me know!\", additional_kwargs={'refusal': None}, response_metadata={'token_usage': {'completion_tokens': 43, 'prompt_tokens': 102, 'total_tokens': 145, 'completion_tokens_details': {'accepted_prediction_tokens': 0, 'audio_tokens': 0, 'reasoning_tokens': 0, 'rejected_prediction_tokens': 0}, 'prompt_tokens_details': {'audio_tokens': 0, 'cached_tokens': 0}}, 'model_name': 'gpt-4o-mini-2024-07-18', 'system_fingerprint': 'fp_34a54ae93c', 'id': 'chatcmpl-Bf7TILukx4ESZSwBNtpT2errQuGLH', 'service_tier': 'default', 'finish_reason': 'stop', 'logprobs': None}, id='run--d6596c5c-5f62-488c-b444-9e7eb776d2c8-0', usage_metadata={'input_tokens': 102, 'output_tokens': 43, 'total_tokens': 145, 'input_token_details': {'audio': 0, 'cache_read': 0}, 'output_token_details': {'audio': 0, 'reasoning': 0}})]}\n",
      "<class '__main__.State'>\n",
      "{'messages': [HumanMessage(content='what is my name?', additional_kwargs={}, response_metadata={}, id='bc2015ff-1885-4e43-8522-4c8da87c8506'), AIMessage(content=\"I don't have access to your personal information, including your name. If you'd like me to refer to you by a specific name or if there's something else you'd like to share, feel free to let me know!\", additional_kwargs={'refusal': None}, response_metadata={'token_usage': {'completion_tokens': 43, 'prompt_tokens': 102, 'total_tokens': 145, 'completion_tokens_details': {'accepted_prediction_tokens': 0, 'audio_tokens': 0, 'reasoning_tokens': 0, 'rejected_prediction_tokens': 0}, 'prompt_tokens_details': {'audio_tokens': 0, 'cached_tokens': 0}}, 'model_name': 'gpt-4o-mini-2024-07-18', 'system_fingerprint': 'fp_34a54ae93c', 'id': 'chatcmpl-Bf7TILukx4ESZSwBNtpT2errQuGLH', 'service_tier': 'default', 'finish_reason': 'stop', 'logprobs': None}, id='run--d6596c5c-5f62-488c-b444-9e7eb776d2c8-0', usage_metadata={'input_tokens': 102, 'output_tokens': 43, 'total_tokens': 145, 'input_token_details': {'audio': 0, 'cache_read': 0}, 'output_token_details': {'audio': 0, 'reasoning': 0}}), HumanMessage(content='my name is Duy', additional_kwargs={}, response_metadata={}, id='67a67875-7521-4610-bb8e-f4ba86ed2ead'), AIMessage(content='Nice to meet you, Duy! How can I assist you today?', additional_kwargs={'refusal': None}, response_metadata={'token_usage': {'completion_tokens': 16, 'prompt_tokens': 157, 'total_tokens': 173, 'completion_tokens_details': {'accepted_prediction_tokens': 0, 'audio_tokens': 0, 'reasoning_tokens': 0, 'rejected_prediction_tokens': 0}, 'prompt_tokens_details': {'audio_tokens': 0, 'cached_tokens': 0}}, 'model_name': 'gpt-4o-mini-2024-07-18', 'system_fingerprint': 'fp_34a54ae93c', 'id': 'chatcmpl-Bf7TSEd4WegdHN5VTXkAvDUdzxRlj', 'service_tier': 'default', 'finish_reason': 'stop', 'logprobs': None}, id='run--53e7199d-2ae3-4606-998b-6df13faa4776-0', usage_metadata={'input_tokens': 157, 'output_tokens': 16, 'total_tokens': 173, 'input_token_details': {'audio': 0, 'cache_read': 0}, 'output_token_details': {'audio': 0, 'reasoning': 0}})]}\n",
      "<class '__main__.State'>\n",
      "{'messages': [HumanMessage(content='what is my name?', additional_kwargs={}, response_metadata={}, id='bc2015ff-1885-4e43-8522-4c8da87c8506'), AIMessage(content=\"I don't have access to your personal information, including your name. If you'd like me to refer to you by a specific name or if there's something else you'd like to share, feel free to let me know!\", additional_kwargs={'refusal': None}, response_metadata={'token_usage': {'completion_tokens': 43, 'prompt_tokens': 102, 'total_tokens': 145, 'completion_tokens_details': {'accepted_prediction_tokens': 0, 'audio_tokens': 0, 'reasoning_tokens': 0, 'rejected_prediction_tokens': 0}, 'prompt_tokens_details': {'audio_tokens': 0, 'cached_tokens': 0}}, 'model_name': 'gpt-4o-mini-2024-07-18', 'system_fingerprint': 'fp_34a54ae93c', 'id': 'chatcmpl-Bf7TILukx4ESZSwBNtpT2errQuGLH', 'service_tier': 'default', 'finish_reason': 'stop', 'logprobs': None}, id='run--d6596c5c-5f62-488c-b444-9e7eb776d2c8-0', usage_metadata={'input_tokens': 102, 'output_tokens': 43, 'total_tokens': 145, 'input_token_details': {'audio': 0, 'cache_read': 0}, 'output_token_details': {'audio': 0, 'reasoning': 0}}), HumanMessage(content='my name is Duy', additional_kwargs={}, response_metadata={}, id='67a67875-7521-4610-bb8e-f4ba86ed2ead'), AIMessage(content='Nice to meet you, Duy! How can I assist you today?', additional_kwargs={'refusal': None}, response_metadata={'token_usage': {'completion_tokens': 16, 'prompt_tokens': 157, 'total_tokens': 173, 'completion_tokens_details': {'accepted_prediction_tokens': 0, 'audio_tokens': 0, 'reasoning_tokens': 0, 'rejected_prediction_tokens': 0}, 'prompt_tokens_details': {'audio_tokens': 0, 'cached_tokens': 0}}, 'model_name': 'gpt-4o-mini-2024-07-18', 'system_fingerprint': 'fp_34a54ae93c', 'id': 'chatcmpl-Bf7TSEd4WegdHN5VTXkAvDUdzxRlj', 'service_tier': 'default', 'finish_reason': 'stop', 'logprobs': None}, id='run--53e7199d-2ae3-4606-998b-6df13faa4776-0', usage_metadata={'input_tokens': 157, 'output_tokens': 16, 'total_tokens': 173, 'input_token_details': {'audio': 0, 'cache_read': 0}, 'output_token_details': {'audio': 0, 'reasoning': 0}}), HumanMessage(content='say my name 3 times', additional_kwargs={}, response_metadata={}, id='96666130-97b7-46b0-b939-fc50a2459143'), HumanMessage(content='say my name 5 times', additional_kwargs={}, response_metadata={}, id='725abcbe-4546-42df-85e9-bbb5d4fd47a8'), AIMessage(content='Duy, Duy, Duy, Duy, Duy!', additional_kwargs={'refusal': None}, response_metadata={'token_usage': {'completion_tokens': 16, 'prompt_tokens': 196, 'total_tokens': 212, 'completion_tokens_details': {'accepted_prediction_tokens': 0, 'audio_tokens': 0, 'reasoning_tokens': 0, 'rejected_prediction_tokens': 0}, 'prompt_tokens_details': {'audio_tokens': 0, 'cached_tokens': 0}}, 'model_name': 'gpt-4o-mini-2024-07-18', 'system_fingerprint': 'fp_34a54ae93c', 'id': 'chatcmpl-Bf7UYfdp8P6EiGndFFvPzjHRuBvzk', 'service_tier': 'default', 'finish_reason': 'stop', 'logprobs': None}, id='run--4bd6ac0f-8b79-475c-9449-4c123d5db512-0', usage_metadata={'input_tokens': 196, 'output_tokens': 16, 'total_tokens': 212, 'input_token_details': {'audio': 0, 'cache_read': 0}, 'output_token_details': {'audio': 0, 'reasoning': 0}})]}\n",
      "<class '__main__.State'>\n",
      "{'messages': [HumanMessage(content='what is my name?', additional_kwargs={}, response_metadata={}, id='bc2015ff-1885-4e43-8522-4c8da87c8506'), AIMessage(content=\"I don't have access to your personal information, including your name. If you'd like me to refer to you by a specific name or if there's something else you'd like to share, feel free to let me know!\", additional_kwargs={'refusal': None}, response_metadata={'token_usage': {'completion_tokens': 43, 'prompt_tokens': 102, 'total_tokens': 145, 'completion_tokens_details': {'accepted_prediction_tokens': 0, 'audio_tokens': 0, 'reasoning_tokens': 0, 'rejected_prediction_tokens': 0}, 'prompt_tokens_details': {'audio_tokens': 0, 'cached_tokens': 0}}, 'model_name': 'gpt-4o-mini-2024-07-18', 'system_fingerprint': 'fp_34a54ae93c', 'id': 'chatcmpl-Bf7TILukx4ESZSwBNtpT2errQuGLH', 'service_tier': 'default', 'finish_reason': 'stop', 'logprobs': None}, id='run--d6596c5c-5f62-488c-b444-9e7eb776d2c8-0', usage_metadata={'input_tokens': 102, 'output_tokens': 43, 'total_tokens': 145, 'input_token_details': {'audio': 0, 'cache_read': 0}, 'output_token_details': {'audio': 0, 'reasoning': 0}}), HumanMessage(content='my name is Duy', additional_kwargs={}, response_metadata={}, id='67a67875-7521-4610-bb8e-f4ba86ed2ead'), AIMessage(content='Nice to meet you, Duy! How can I assist you today?', additional_kwargs={'refusal': None}, response_metadata={'token_usage': {'completion_tokens': 16, 'prompt_tokens': 157, 'total_tokens': 173, 'completion_tokens_details': {'accepted_prediction_tokens': 0, 'audio_tokens': 0, 'reasoning_tokens': 0, 'rejected_prediction_tokens': 0}, 'prompt_tokens_details': {'audio_tokens': 0, 'cached_tokens': 0}}, 'model_name': 'gpt-4o-mini-2024-07-18', 'system_fingerprint': 'fp_34a54ae93c', 'id': 'chatcmpl-Bf7TSEd4WegdHN5VTXkAvDUdzxRlj', 'service_tier': 'default', 'finish_reason': 'stop', 'logprobs': None}, id='run--53e7199d-2ae3-4606-998b-6df13faa4776-0', usage_metadata={'input_tokens': 157, 'output_tokens': 16, 'total_tokens': 173, 'input_token_details': {'audio': 0, 'cache_read': 0}, 'output_token_details': {'audio': 0, 'reasoning': 0}}), HumanMessage(content='say my name 3 times', additional_kwargs={}, response_metadata={}, id='96666130-97b7-46b0-b939-fc50a2459143'), HumanMessage(content='say my name 5 times', additional_kwargs={}, response_metadata={}, id='725abcbe-4546-42df-85e9-bbb5d4fd47a8'), AIMessage(content='Duy, Duy, Duy, Duy, Duy!', additional_kwargs={'refusal': None}, response_metadata={'token_usage': {'completion_tokens': 16, 'prompt_tokens': 196, 'total_tokens': 212, 'completion_tokens_details': {'accepted_prediction_tokens': 0, 'audio_tokens': 0, 'reasoning_tokens': 0, 'rejected_prediction_tokens': 0}, 'prompt_tokens_details': {'audio_tokens': 0, 'cached_tokens': 0}}, 'model_name': 'gpt-4o-mini-2024-07-18', 'system_fingerprint': 'fp_34a54ae93c', 'id': 'chatcmpl-Bf7UYfdp8P6EiGndFFvPzjHRuBvzk', 'service_tier': 'default', 'finish_reason': 'stop', 'logprobs': None}, id='run--4bd6ac0f-8b79-475c-9449-4c123d5db512-0', usage_metadata={'input_tokens': 196, 'output_tokens': 16, 'total_tokens': 212, 'input_token_details': {'audio': 0, 'cache_read': 0}, 'output_token_details': {'audio': 0, 'reasoning': 0}}), HumanMessage(content='', additional_kwargs={}, response_metadata={}, id='50096248-60ec-447d-8491-90089e8ab281'), AIMessage(content=\"It seems like your message didn't come through. How can I assist you further?\", additional_kwargs={'refusal': None}, response_metadata={'token_usage': {'completion_tokens': 17, 'prompt_tokens': 219, 'total_tokens': 236, 'completion_tokens_details': {'accepted_prediction_tokens': 0, 'audio_tokens': 0, 'reasoning_tokens': 0, 'rejected_prediction_tokens': 0}, 'prompt_tokens_details': {'audio_tokens': 0, 'cached_tokens': 0}}, 'model_name': 'gpt-4o-mini-2024-07-18', 'system_fingerprint': 'fp_34a54ae93c', 'id': 'chatcmpl-Bf7V9ZnwyLHrLX61oQd2i2LNheCKK', 'service_tier': 'default', 'finish_reason': 'stop', 'logprobs': None}, id='run--9e247b14-ee39-4381-9cf6-d426ad249341-0', usage_metadata={'input_tokens': 219, 'output_tokens': 17, 'total_tokens': 236, 'input_token_details': {'audio': 0, 'cache_read': 0}, 'output_token_details': {'audio': 0, 'reasoning': 0}})]}\n"
     ]
    }
   ],
   "source": [
    "# Change to another thread_id to see the difference\n",
    "config = {\"configurable\": {\"thread_id\": \"2\"}}\n",
    "\n",
    "def chat(user_input: str, history):\n",
    "    result = graph.invoke(\n",
    "        {\n",
    "            \"messages\": [\n",
    "                {\n",
    "                    \"role\": \"user\",\n",
    "                    \"content\": user_input,\n",
    "                }\n",
    "            ]\n",
    "        },\n",
    "        config=config # make sure to pass the config to the graph to use correct slot of memory\n",
    "    )\n",
    "    print(result)\n",
    "    return result[\"messages\"][-1].content\n",
    "    \n",
    "gr.ChatInterface(chat, type='messages').launch()"
   ]
  },
  {
   "cell_type": "code",
   "execution_count": 19,
   "id": "213d3681",
   "metadata": {},
   "outputs": [
    {
     "data": {
      "text/plain": [
       "StateSnapshot(values={'messages': [HumanMessage(content='what is my name?', additional_kwargs={}, response_metadata={}, id='bc2015ff-1885-4e43-8522-4c8da87c8506'), AIMessage(content=\"I don't have access to your personal information, including your name. If you'd like me to refer to you by a specific name or if there's something else you'd like to share, feel free to let me know!\", additional_kwargs={'refusal': None}, response_metadata={'token_usage': {'completion_tokens': 43, 'prompt_tokens': 102, 'total_tokens': 145, 'completion_tokens_details': {'accepted_prediction_tokens': 0, 'audio_tokens': 0, 'reasoning_tokens': 0, 'rejected_prediction_tokens': 0}, 'prompt_tokens_details': {'audio_tokens': 0, 'cached_tokens': 0}}, 'model_name': 'gpt-4o-mini-2024-07-18', 'system_fingerprint': 'fp_34a54ae93c', 'id': 'chatcmpl-Bf7TILukx4ESZSwBNtpT2errQuGLH', 'service_tier': 'default', 'finish_reason': 'stop', 'logprobs': None}, id='run--d6596c5c-5f62-488c-b444-9e7eb776d2c8-0', usage_metadata={'input_tokens': 102, 'output_tokens': 43, 'total_tokens': 145, 'input_token_details': {'audio': 0, 'cache_read': 0}, 'output_token_details': {'audio': 0, 'reasoning': 0}}), HumanMessage(content='my name is Duy', additional_kwargs={}, response_metadata={}, id='67a67875-7521-4610-bb8e-f4ba86ed2ead'), AIMessage(content='Nice to meet you, Duy! How can I assist you today?', additional_kwargs={'refusal': None}, response_metadata={'token_usage': {'completion_tokens': 16, 'prompt_tokens': 157, 'total_tokens': 173, 'completion_tokens_details': {'accepted_prediction_tokens': 0, 'audio_tokens': 0, 'reasoning_tokens': 0, 'rejected_prediction_tokens': 0}, 'prompt_tokens_details': {'audio_tokens': 0, 'cached_tokens': 0}}, 'model_name': 'gpt-4o-mini-2024-07-18', 'system_fingerprint': 'fp_34a54ae93c', 'id': 'chatcmpl-Bf7TSEd4WegdHN5VTXkAvDUdzxRlj', 'service_tier': 'default', 'finish_reason': 'stop', 'logprobs': None}, id='run--53e7199d-2ae3-4606-998b-6df13faa4776-0', usage_metadata={'input_tokens': 157, 'output_tokens': 16, 'total_tokens': 173, 'input_token_details': {'audio': 0, 'cache_read': 0}, 'output_token_details': {'audio': 0, 'reasoning': 0}}), HumanMessage(content='say my name 3 times', additional_kwargs={}, response_metadata={}, id='96666130-97b7-46b0-b939-fc50a2459143'), HumanMessage(content='say my name 5 times', additional_kwargs={}, response_metadata={}, id='725abcbe-4546-42df-85e9-bbb5d4fd47a8'), AIMessage(content='Duy, Duy, Duy, Duy, Duy!', additional_kwargs={'refusal': None}, response_metadata={'token_usage': {'completion_tokens': 16, 'prompt_tokens': 196, 'total_tokens': 212, 'completion_tokens_details': {'accepted_prediction_tokens': 0, 'audio_tokens': 0, 'reasoning_tokens': 0, 'rejected_prediction_tokens': 0}, 'prompt_tokens_details': {'audio_tokens': 0, 'cached_tokens': 0}}, 'model_name': 'gpt-4o-mini-2024-07-18', 'system_fingerprint': 'fp_34a54ae93c', 'id': 'chatcmpl-Bf7UYfdp8P6EiGndFFvPzjHRuBvzk', 'service_tier': 'default', 'finish_reason': 'stop', 'logprobs': None}, id='run--4bd6ac0f-8b79-475c-9449-4c123d5db512-0', usage_metadata={'input_tokens': 196, 'output_tokens': 16, 'total_tokens': 212, 'input_token_details': {'audio': 0, 'cache_read': 0}, 'output_token_details': {'audio': 0, 'reasoning': 0}}), HumanMessage(content='', additional_kwargs={}, response_metadata={}, id='50096248-60ec-447d-8491-90089e8ab281'), AIMessage(content=\"It seems like your message didn't come through. How can I assist you further?\", additional_kwargs={'refusal': None}, response_metadata={'token_usage': {'completion_tokens': 17, 'prompt_tokens': 219, 'total_tokens': 236, 'completion_tokens_details': {'accepted_prediction_tokens': 0, 'audio_tokens': 0, 'reasoning_tokens': 0, 'rejected_prediction_tokens': 0}, 'prompt_tokens_details': {'audio_tokens': 0, 'cached_tokens': 0}}, 'model_name': 'gpt-4o-mini-2024-07-18', 'system_fingerprint': 'fp_34a54ae93c', 'id': 'chatcmpl-Bf7V9ZnwyLHrLX61oQd2i2LNheCKK', 'service_tier': 'default', 'finish_reason': 'stop', 'logprobs': None}, id='run--9e247b14-ee39-4381-9cf6-d426ad249341-0', usage_metadata={'input_tokens': 219, 'output_tokens': 17, 'total_tokens': 236, 'input_token_details': {'audio': 0, 'cache_read': 0}, 'output_token_details': {'audio': 0, 'reasoning': 0}})]}, next=(), config={'configurable': {'thread_id': '2', 'checkpoint_ns': '', 'checkpoint_id': '1f04227f-57de-62a8-800c-91ff2a3c70a8'}}, metadata={'source': 'loop', 'writes': {'chatbot': {'messages': [AIMessage(content=\"It seems like your message didn't come through. How can I assist you further?\", additional_kwargs={'refusal': None}, response_metadata={'token_usage': {'completion_tokens': 17, 'prompt_tokens': 219, 'total_tokens': 236, 'completion_tokens_details': {'accepted_prediction_tokens': 0, 'audio_tokens': 0, 'reasoning_tokens': 0, 'rejected_prediction_tokens': 0}, 'prompt_tokens_details': {'audio_tokens': 0, 'cached_tokens': 0}}, 'model_name': 'gpt-4o-mini-2024-07-18', 'system_fingerprint': 'fp_34a54ae93c', 'id': 'chatcmpl-Bf7V9ZnwyLHrLX61oQd2i2LNheCKK', 'service_tier': 'default', 'finish_reason': 'stop', 'logprobs': None}, id='run--9e247b14-ee39-4381-9cf6-d426ad249341-0', usage_metadata={'input_tokens': 219, 'output_tokens': 17, 'total_tokens': 236, 'input_token_details': {'audio': 0, 'cache_read': 0}, 'output_token_details': {'audio': 0, 'reasoning': 0}})]}}, 'step': 12, 'parents': {}, 'thread_id': '2'}, created_at='2025-06-05T16:13:03.831104+00:00', parent_config={'configurable': {'thread_id': '2', 'checkpoint_ns': '', 'checkpoint_id': '1f04227f-3df4-6356-800b-267869b1de40'}}, tasks=(), interrupts=())"
      ]
     },
     "execution_count": 19,
     "metadata": {},
     "output_type": "execute_result"
    }
   ],
   "source": [
    "graph.get_state(config)"
   ]
  },
  {
   "cell_type": "code",
   "execution_count": 20,
   "id": "1f6d68e1",
   "metadata": {},
   "outputs": [
    {
     "data": {
      "text/plain": [
       "[StateSnapshot(values={'messages': [HumanMessage(content='what is my name?', additional_kwargs={}, response_metadata={}, id='bc2015ff-1885-4e43-8522-4c8da87c8506'), AIMessage(content=\"I don't have access to your personal information, including your name. If you'd like me to refer to you by a specific name or if there's something else you'd like to share, feel free to let me know!\", additional_kwargs={'refusal': None}, response_metadata={'token_usage': {'completion_tokens': 43, 'prompt_tokens': 102, 'total_tokens': 145, 'completion_tokens_details': {'accepted_prediction_tokens': 0, 'audio_tokens': 0, 'reasoning_tokens': 0, 'rejected_prediction_tokens': 0}, 'prompt_tokens_details': {'audio_tokens': 0, 'cached_tokens': 0}}, 'model_name': 'gpt-4o-mini-2024-07-18', 'system_fingerprint': 'fp_34a54ae93c', 'id': 'chatcmpl-Bf7TILukx4ESZSwBNtpT2errQuGLH', 'service_tier': 'default', 'finish_reason': 'stop', 'logprobs': None}, id='run--d6596c5c-5f62-488c-b444-9e7eb776d2c8-0', usage_metadata={'input_tokens': 102, 'output_tokens': 43, 'total_tokens': 145, 'input_token_details': {'audio': 0, 'cache_read': 0}, 'output_token_details': {'audio': 0, 'reasoning': 0}}), HumanMessage(content='my name is Duy', additional_kwargs={}, response_metadata={}, id='67a67875-7521-4610-bb8e-f4ba86ed2ead'), AIMessage(content='Nice to meet you, Duy! How can I assist you today?', additional_kwargs={'refusal': None}, response_metadata={'token_usage': {'completion_tokens': 16, 'prompt_tokens': 157, 'total_tokens': 173, 'completion_tokens_details': {'accepted_prediction_tokens': 0, 'audio_tokens': 0, 'reasoning_tokens': 0, 'rejected_prediction_tokens': 0}, 'prompt_tokens_details': {'audio_tokens': 0, 'cached_tokens': 0}}, 'model_name': 'gpt-4o-mini-2024-07-18', 'system_fingerprint': 'fp_34a54ae93c', 'id': 'chatcmpl-Bf7TSEd4WegdHN5VTXkAvDUdzxRlj', 'service_tier': 'default', 'finish_reason': 'stop', 'logprobs': None}, id='run--53e7199d-2ae3-4606-998b-6df13faa4776-0', usage_metadata={'input_tokens': 157, 'output_tokens': 16, 'total_tokens': 173, 'input_token_details': {'audio': 0, 'cache_read': 0}, 'output_token_details': {'audio': 0, 'reasoning': 0}}), HumanMessage(content='say my name 3 times', additional_kwargs={}, response_metadata={}, id='96666130-97b7-46b0-b939-fc50a2459143'), HumanMessage(content='say my name 5 times', additional_kwargs={}, response_metadata={}, id='725abcbe-4546-42df-85e9-bbb5d4fd47a8'), AIMessage(content='Duy, Duy, Duy, Duy, Duy!', additional_kwargs={'refusal': None}, response_metadata={'token_usage': {'completion_tokens': 16, 'prompt_tokens': 196, 'total_tokens': 212, 'completion_tokens_details': {'accepted_prediction_tokens': 0, 'audio_tokens': 0, 'reasoning_tokens': 0, 'rejected_prediction_tokens': 0}, 'prompt_tokens_details': {'audio_tokens': 0, 'cached_tokens': 0}}, 'model_name': 'gpt-4o-mini-2024-07-18', 'system_fingerprint': 'fp_34a54ae93c', 'id': 'chatcmpl-Bf7UYfdp8P6EiGndFFvPzjHRuBvzk', 'service_tier': 'default', 'finish_reason': 'stop', 'logprobs': None}, id='run--4bd6ac0f-8b79-475c-9449-4c123d5db512-0', usage_metadata={'input_tokens': 196, 'output_tokens': 16, 'total_tokens': 212, 'input_token_details': {'audio': 0, 'cache_read': 0}, 'output_token_details': {'audio': 0, 'reasoning': 0}}), HumanMessage(content='', additional_kwargs={}, response_metadata={}, id='50096248-60ec-447d-8491-90089e8ab281'), AIMessage(content=\"It seems like your message didn't come through. How can I assist you further?\", additional_kwargs={'refusal': None}, response_metadata={'token_usage': {'completion_tokens': 17, 'prompt_tokens': 219, 'total_tokens': 236, 'completion_tokens_details': {'accepted_prediction_tokens': 0, 'audio_tokens': 0, 'reasoning_tokens': 0, 'rejected_prediction_tokens': 0}, 'prompt_tokens_details': {'audio_tokens': 0, 'cached_tokens': 0}}, 'model_name': 'gpt-4o-mini-2024-07-18', 'system_fingerprint': 'fp_34a54ae93c', 'id': 'chatcmpl-Bf7V9ZnwyLHrLX61oQd2i2LNheCKK', 'service_tier': 'default', 'finish_reason': 'stop', 'logprobs': None}, id='run--9e247b14-ee39-4381-9cf6-d426ad249341-0', usage_metadata={'input_tokens': 219, 'output_tokens': 17, 'total_tokens': 236, 'input_token_details': {'audio': 0, 'cache_read': 0}, 'output_token_details': {'audio': 0, 'reasoning': 0}})]}, next=(), config={'configurable': {'thread_id': '2', 'checkpoint_ns': '', 'checkpoint_id': '1f04227f-57de-62a8-800c-91ff2a3c70a8'}}, metadata={'source': 'loop', 'writes': {'chatbot': {'messages': [AIMessage(content=\"It seems like your message didn't come through. How can I assist you further?\", additional_kwargs={'refusal': None}, response_metadata={'token_usage': {'completion_tokens': 17, 'prompt_tokens': 219, 'total_tokens': 236, 'completion_tokens_details': {'accepted_prediction_tokens': 0, 'audio_tokens': 0, 'reasoning_tokens': 0, 'rejected_prediction_tokens': 0}, 'prompt_tokens_details': {'audio_tokens': 0, 'cached_tokens': 0}}, 'model_name': 'gpt-4o-mini-2024-07-18', 'system_fingerprint': 'fp_34a54ae93c', 'id': 'chatcmpl-Bf7V9ZnwyLHrLX61oQd2i2LNheCKK', 'service_tier': 'default', 'finish_reason': 'stop', 'logprobs': None}, id='run--9e247b14-ee39-4381-9cf6-d426ad249341-0', usage_metadata={'input_tokens': 219, 'output_tokens': 17, 'total_tokens': 236, 'input_token_details': {'audio': 0, 'cache_read': 0}, 'output_token_details': {'audio': 0, 'reasoning': 0}})]}}, 'step': 12, 'parents': {}, 'thread_id': '2'}, created_at='2025-06-05T16:13:03.831104+00:00', parent_config={'configurable': {'thread_id': '2', 'checkpoint_ns': '', 'checkpoint_id': '1f04227f-3df4-6356-800b-267869b1de40'}}, tasks=(), interrupts=()),\n",
       " StateSnapshot(values={'messages': [HumanMessage(content='what is my name?', additional_kwargs={}, response_metadata={}, id='bc2015ff-1885-4e43-8522-4c8da87c8506'), AIMessage(content=\"I don't have access to your personal information, including your name. If you'd like me to refer to you by a specific name or if there's something else you'd like to share, feel free to let me know!\", additional_kwargs={'refusal': None}, response_metadata={'token_usage': {'completion_tokens': 43, 'prompt_tokens': 102, 'total_tokens': 145, 'completion_tokens_details': {'accepted_prediction_tokens': 0, 'audio_tokens': 0, 'reasoning_tokens': 0, 'rejected_prediction_tokens': 0}, 'prompt_tokens_details': {'audio_tokens': 0, 'cached_tokens': 0}}, 'model_name': 'gpt-4o-mini-2024-07-18', 'system_fingerprint': 'fp_34a54ae93c', 'id': 'chatcmpl-Bf7TILukx4ESZSwBNtpT2errQuGLH', 'service_tier': 'default', 'finish_reason': 'stop', 'logprobs': None}, id='run--d6596c5c-5f62-488c-b444-9e7eb776d2c8-0', usage_metadata={'input_tokens': 102, 'output_tokens': 43, 'total_tokens': 145, 'input_token_details': {'audio': 0, 'cache_read': 0}, 'output_token_details': {'audio': 0, 'reasoning': 0}}), HumanMessage(content='my name is Duy', additional_kwargs={}, response_metadata={}, id='67a67875-7521-4610-bb8e-f4ba86ed2ead'), AIMessage(content='Nice to meet you, Duy! How can I assist you today?', additional_kwargs={'refusal': None}, response_metadata={'token_usage': {'completion_tokens': 16, 'prompt_tokens': 157, 'total_tokens': 173, 'completion_tokens_details': {'accepted_prediction_tokens': 0, 'audio_tokens': 0, 'reasoning_tokens': 0, 'rejected_prediction_tokens': 0}, 'prompt_tokens_details': {'audio_tokens': 0, 'cached_tokens': 0}}, 'model_name': 'gpt-4o-mini-2024-07-18', 'system_fingerprint': 'fp_34a54ae93c', 'id': 'chatcmpl-Bf7TSEd4WegdHN5VTXkAvDUdzxRlj', 'service_tier': 'default', 'finish_reason': 'stop', 'logprobs': None}, id='run--53e7199d-2ae3-4606-998b-6df13faa4776-0', usage_metadata={'input_tokens': 157, 'output_tokens': 16, 'total_tokens': 173, 'input_token_details': {'audio': 0, 'cache_read': 0}, 'output_token_details': {'audio': 0, 'reasoning': 0}}), HumanMessage(content='say my name 3 times', additional_kwargs={}, response_metadata={}, id='96666130-97b7-46b0-b939-fc50a2459143'), HumanMessage(content='say my name 5 times', additional_kwargs={}, response_metadata={}, id='725abcbe-4546-42df-85e9-bbb5d4fd47a8'), AIMessage(content='Duy, Duy, Duy, Duy, Duy!', additional_kwargs={'refusal': None}, response_metadata={'token_usage': {'completion_tokens': 16, 'prompt_tokens': 196, 'total_tokens': 212, 'completion_tokens_details': {'accepted_prediction_tokens': 0, 'audio_tokens': 0, 'reasoning_tokens': 0, 'rejected_prediction_tokens': 0}, 'prompt_tokens_details': {'audio_tokens': 0, 'cached_tokens': 0}}, 'model_name': 'gpt-4o-mini-2024-07-18', 'system_fingerprint': 'fp_34a54ae93c', 'id': 'chatcmpl-Bf7UYfdp8P6EiGndFFvPzjHRuBvzk', 'service_tier': 'default', 'finish_reason': 'stop', 'logprobs': None}, id='run--4bd6ac0f-8b79-475c-9449-4c123d5db512-0', usage_metadata={'input_tokens': 196, 'output_tokens': 16, 'total_tokens': 212, 'input_token_details': {'audio': 0, 'cache_read': 0}, 'output_token_details': {'audio': 0, 'reasoning': 0}}), HumanMessage(content='', additional_kwargs={}, response_metadata={}, id='50096248-60ec-447d-8491-90089e8ab281')]}, next=('chatbot',), config={'configurable': {'thread_id': '2', 'checkpoint_ns': '', 'checkpoint_id': '1f04227f-3df4-6356-800b-267869b1de40'}}, metadata={'source': 'loop', 'writes': None, 'step': 11, 'parents': {}, 'thread_id': '2'}, created_at='2025-06-05T16:13:01.113834+00:00', parent_config={'configurable': {'thread_id': '2', 'checkpoint_ns': '', 'checkpoint_id': '1f04227f-3de5-6cc0-800a-3e1b60d0ec64'}}, tasks=(PregelTask(id='0b40c73b-1e22-7f74-23b0-c89106961f43', name='chatbot', path=('__pregel_pull', 'chatbot'), error=None, interrupts=(), state=None, result={'messages': [AIMessage(content=\"It seems like your message didn't come through. How can I assist you further?\", additional_kwargs={'refusal': None}, response_metadata={'token_usage': {'completion_tokens': 17, 'prompt_tokens': 219, 'total_tokens': 236, 'completion_tokens_details': {'accepted_prediction_tokens': 0, 'audio_tokens': 0, 'reasoning_tokens': 0, 'rejected_prediction_tokens': 0}, 'prompt_tokens_details': {'audio_tokens': 0, 'cached_tokens': 0}}, 'model_name': 'gpt-4o-mini-2024-07-18', 'system_fingerprint': 'fp_34a54ae93c', 'id': 'chatcmpl-Bf7V9ZnwyLHrLX61oQd2i2LNheCKK', 'service_tier': 'default', 'finish_reason': 'stop', 'logprobs': None}, id='run--9e247b14-ee39-4381-9cf6-d426ad249341-0', usage_metadata={'input_tokens': 219, 'output_tokens': 17, 'total_tokens': 236, 'input_token_details': {'audio': 0, 'cache_read': 0}, 'output_token_details': {'audio': 0, 'reasoning': 0}})]}),), interrupts=()),\n",
       " StateSnapshot(values={'messages': [HumanMessage(content='what is my name?', additional_kwargs={}, response_metadata={}, id='bc2015ff-1885-4e43-8522-4c8da87c8506'), AIMessage(content=\"I don't have access to your personal information, including your name. If you'd like me to refer to you by a specific name or if there's something else you'd like to share, feel free to let me know!\", additional_kwargs={'refusal': None}, response_metadata={'token_usage': {'completion_tokens': 43, 'prompt_tokens': 102, 'total_tokens': 145, 'completion_tokens_details': {'accepted_prediction_tokens': 0, 'audio_tokens': 0, 'reasoning_tokens': 0, 'rejected_prediction_tokens': 0}, 'prompt_tokens_details': {'audio_tokens': 0, 'cached_tokens': 0}}, 'model_name': 'gpt-4o-mini-2024-07-18', 'system_fingerprint': 'fp_34a54ae93c', 'id': 'chatcmpl-Bf7TILukx4ESZSwBNtpT2errQuGLH', 'service_tier': 'default', 'finish_reason': 'stop', 'logprobs': None}, id='run--d6596c5c-5f62-488c-b444-9e7eb776d2c8-0', usage_metadata={'input_tokens': 102, 'output_tokens': 43, 'total_tokens': 145, 'input_token_details': {'audio': 0, 'cache_read': 0}, 'output_token_details': {'audio': 0, 'reasoning': 0}}), HumanMessage(content='my name is Duy', additional_kwargs={}, response_metadata={}, id='67a67875-7521-4610-bb8e-f4ba86ed2ead'), AIMessage(content='Nice to meet you, Duy! How can I assist you today?', additional_kwargs={'refusal': None}, response_metadata={'token_usage': {'completion_tokens': 16, 'prompt_tokens': 157, 'total_tokens': 173, 'completion_tokens_details': {'accepted_prediction_tokens': 0, 'audio_tokens': 0, 'reasoning_tokens': 0, 'rejected_prediction_tokens': 0}, 'prompt_tokens_details': {'audio_tokens': 0, 'cached_tokens': 0}}, 'model_name': 'gpt-4o-mini-2024-07-18', 'system_fingerprint': 'fp_34a54ae93c', 'id': 'chatcmpl-Bf7TSEd4WegdHN5VTXkAvDUdzxRlj', 'service_tier': 'default', 'finish_reason': 'stop', 'logprobs': None}, id='run--53e7199d-2ae3-4606-998b-6df13faa4776-0', usage_metadata={'input_tokens': 157, 'output_tokens': 16, 'total_tokens': 173, 'input_token_details': {'audio': 0, 'cache_read': 0}, 'output_token_details': {'audio': 0, 'reasoning': 0}}), HumanMessage(content='say my name 3 times', additional_kwargs={}, response_metadata={}, id='96666130-97b7-46b0-b939-fc50a2459143'), HumanMessage(content='say my name 5 times', additional_kwargs={}, response_metadata={}, id='725abcbe-4546-42df-85e9-bbb5d4fd47a8'), AIMessage(content='Duy, Duy, Duy, Duy, Duy!', additional_kwargs={'refusal': None}, response_metadata={'token_usage': {'completion_tokens': 16, 'prompt_tokens': 196, 'total_tokens': 212, 'completion_tokens_details': {'accepted_prediction_tokens': 0, 'audio_tokens': 0, 'reasoning_tokens': 0, 'rejected_prediction_tokens': 0}, 'prompt_tokens_details': {'audio_tokens': 0, 'cached_tokens': 0}}, 'model_name': 'gpt-4o-mini-2024-07-18', 'system_fingerprint': 'fp_34a54ae93c', 'id': 'chatcmpl-Bf7UYfdp8P6EiGndFFvPzjHRuBvzk', 'service_tier': 'default', 'finish_reason': 'stop', 'logprobs': None}, id='run--4bd6ac0f-8b79-475c-9449-4c123d5db512-0', usage_metadata={'input_tokens': 196, 'output_tokens': 16, 'total_tokens': 212, 'input_token_details': {'audio': 0, 'cache_read': 0}, 'output_token_details': {'audio': 0, 'reasoning': 0}})]}, next=('__start__',), config={'configurable': {'thread_id': '2', 'checkpoint_ns': '', 'checkpoint_id': '1f04227f-3de5-6cc0-800a-3e1b60d0ec64'}}, metadata={'source': 'input', 'writes': {'__start__': {'messages': [{'role': 'user', 'content': ''}]}}, 'step': 10, 'parents': {}, 'thread_id': '2'}, created_at='2025-06-05T16:13:01.107922+00:00', parent_config={'configurable': {'thread_id': '2', 'checkpoint_ns': '', 'checkpoint_id': '1f04227d-f8fe-69e6-8009-0319354a2bce'}}, tasks=(PregelTask(id='5d8c6889-4fc4-07e4-148f-7dcade9168e3', name='__start__', path=('__pregel_pull', '__start__'), error=None, interrupts=(), state=None, result={'messages': [{'role': 'user', 'content': ''}]}),), interrupts=()),\n",
       " StateSnapshot(values={'messages': [HumanMessage(content='what is my name?', additional_kwargs={}, response_metadata={}, id='bc2015ff-1885-4e43-8522-4c8da87c8506'), AIMessage(content=\"I don't have access to your personal information, including your name. If you'd like me to refer to you by a specific name or if there's something else you'd like to share, feel free to let me know!\", additional_kwargs={'refusal': None}, response_metadata={'token_usage': {'completion_tokens': 43, 'prompt_tokens': 102, 'total_tokens': 145, 'completion_tokens_details': {'accepted_prediction_tokens': 0, 'audio_tokens': 0, 'reasoning_tokens': 0, 'rejected_prediction_tokens': 0}, 'prompt_tokens_details': {'audio_tokens': 0, 'cached_tokens': 0}}, 'model_name': 'gpt-4o-mini-2024-07-18', 'system_fingerprint': 'fp_34a54ae93c', 'id': 'chatcmpl-Bf7TILukx4ESZSwBNtpT2errQuGLH', 'service_tier': 'default', 'finish_reason': 'stop', 'logprobs': None}, id='run--d6596c5c-5f62-488c-b444-9e7eb776d2c8-0', usage_metadata={'input_tokens': 102, 'output_tokens': 43, 'total_tokens': 145, 'input_token_details': {'audio': 0, 'cache_read': 0}, 'output_token_details': {'audio': 0, 'reasoning': 0}}), HumanMessage(content='my name is Duy', additional_kwargs={}, response_metadata={}, id='67a67875-7521-4610-bb8e-f4ba86ed2ead'), AIMessage(content='Nice to meet you, Duy! How can I assist you today?', additional_kwargs={'refusal': None}, response_metadata={'token_usage': {'completion_tokens': 16, 'prompt_tokens': 157, 'total_tokens': 173, 'completion_tokens_details': {'accepted_prediction_tokens': 0, 'audio_tokens': 0, 'reasoning_tokens': 0, 'rejected_prediction_tokens': 0}, 'prompt_tokens_details': {'audio_tokens': 0, 'cached_tokens': 0}}, 'model_name': 'gpt-4o-mini-2024-07-18', 'system_fingerprint': 'fp_34a54ae93c', 'id': 'chatcmpl-Bf7TSEd4WegdHN5VTXkAvDUdzxRlj', 'service_tier': 'default', 'finish_reason': 'stop', 'logprobs': None}, id='run--53e7199d-2ae3-4606-998b-6df13faa4776-0', usage_metadata={'input_tokens': 157, 'output_tokens': 16, 'total_tokens': 173, 'input_token_details': {'audio': 0, 'cache_read': 0}, 'output_token_details': {'audio': 0, 'reasoning': 0}}), HumanMessage(content='say my name 3 times', additional_kwargs={}, response_metadata={}, id='96666130-97b7-46b0-b939-fc50a2459143'), HumanMessage(content='say my name 5 times', additional_kwargs={}, response_metadata={}, id='725abcbe-4546-42df-85e9-bbb5d4fd47a8'), AIMessage(content='Duy, Duy, Duy, Duy, Duy!', additional_kwargs={'refusal': None}, response_metadata={'token_usage': {'completion_tokens': 16, 'prompt_tokens': 196, 'total_tokens': 212, 'completion_tokens_details': {'accepted_prediction_tokens': 0, 'audio_tokens': 0, 'reasoning_tokens': 0, 'rejected_prediction_tokens': 0}, 'prompt_tokens_details': {'audio_tokens': 0, 'cached_tokens': 0}}, 'model_name': 'gpt-4o-mini-2024-07-18', 'system_fingerprint': 'fp_34a54ae93c', 'id': 'chatcmpl-Bf7UYfdp8P6EiGndFFvPzjHRuBvzk', 'service_tier': 'default', 'finish_reason': 'stop', 'logprobs': None}, id='run--4bd6ac0f-8b79-475c-9449-4c123d5db512-0', usage_metadata={'input_tokens': 196, 'output_tokens': 16, 'total_tokens': 212, 'input_token_details': {'audio': 0, 'cache_read': 0}, 'output_token_details': {'audio': 0, 'reasoning': 0}})]}, next=(), config={'configurable': {'thread_id': '2', 'checkpoint_ns': '', 'checkpoint_id': '1f04227d-f8fe-69e6-8009-0319354a2bce'}}, metadata={'source': 'loop', 'writes': {'chatbot': {'messages': [AIMessage(content='Duy, Duy, Duy, Duy, Duy!', additional_kwargs={'refusal': None}, response_metadata={'token_usage': {'completion_tokens': 16, 'prompt_tokens': 196, 'total_tokens': 212, 'completion_tokens_details': {'accepted_prediction_tokens': 0, 'audio_tokens': 0, 'reasoning_tokens': 0, 'rejected_prediction_tokens': 0}, 'prompt_tokens_details': {'audio_tokens': 0, 'cached_tokens': 0}}, 'model_name': 'gpt-4o-mini-2024-07-18', 'system_fingerprint': 'fp_34a54ae93c', 'id': 'chatcmpl-Bf7UYfdp8P6EiGndFFvPzjHRuBvzk', 'service_tier': 'default', 'finish_reason': 'stop', 'logprobs': None}, id='run--4bd6ac0f-8b79-475c-9449-4c123d5db512-0', usage_metadata={'input_tokens': 196, 'output_tokens': 16, 'total_tokens': 212, 'input_token_details': {'audio': 0, 'cache_read': 0}, 'output_token_details': {'audio': 0, 'reasoning': 0}})]}}, 'step': 9, 'parents': {}, 'thread_id': '2'}, created_at='2025-06-05T16:12:27.039379+00:00', parent_config={'configurable': {'thread_id': '2', 'checkpoint_ns': '', 'checkpoint_id': '1f04227d-e94e-6208-8008-37daf87af922'}}, tasks=(), interrupts=()),\n",
       " StateSnapshot(values={'messages': [HumanMessage(content='what is my name?', additional_kwargs={}, response_metadata={}, id='bc2015ff-1885-4e43-8522-4c8da87c8506'), AIMessage(content=\"I don't have access to your personal information, including your name. If you'd like me to refer to you by a specific name or if there's something else you'd like to share, feel free to let me know!\", additional_kwargs={'refusal': None}, response_metadata={'token_usage': {'completion_tokens': 43, 'prompt_tokens': 102, 'total_tokens': 145, 'completion_tokens_details': {'accepted_prediction_tokens': 0, 'audio_tokens': 0, 'reasoning_tokens': 0, 'rejected_prediction_tokens': 0}, 'prompt_tokens_details': {'audio_tokens': 0, 'cached_tokens': 0}}, 'model_name': 'gpt-4o-mini-2024-07-18', 'system_fingerprint': 'fp_34a54ae93c', 'id': 'chatcmpl-Bf7TILukx4ESZSwBNtpT2errQuGLH', 'service_tier': 'default', 'finish_reason': 'stop', 'logprobs': None}, id='run--d6596c5c-5f62-488c-b444-9e7eb776d2c8-0', usage_metadata={'input_tokens': 102, 'output_tokens': 43, 'total_tokens': 145, 'input_token_details': {'audio': 0, 'cache_read': 0}, 'output_token_details': {'audio': 0, 'reasoning': 0}}), HumanMessage(content='my name is Duy', additional_kwargs={}, response_metadata={}, id='67a67875-7521-4610-bb8e-f4ba86ed2ead'), AIMessage(content='Nice to meet you, Duy! How can I assist you today?', additional_kwargs={'refusal': None}, response_metadata={'token_usage': {'completion_tokens': 16, 'prompt_tokens': 157, 'total_tokens': 173, 'completion_tokens_details': {'accepted_prediction_tokens': 0, 'audio_tokens': 0, 'reasoning_tokens': 0, 'rejected_prediction_tokens': 0}, 'prompt_tokens_details': {'audio_tokens': 0, 'cached_tokens': 0}}, 'model_name': 'gpt-4o-mini-2024-07-18', 'system_fingerprint': 'fp_34a54ae93c', 'id': 'chatcmpl-Bf7TSEd4WegdHN5VTXkAvDUdzxRlj', 'service_tier': 'default', 'finish_reason': 'stop', 'logprobs': None}, id='run--53e7199d-2ae3-4606-998b-6df13faa4776-0', usage_metadata={'input_tokens': 157, 'output_tokens': 16, 'total_tokens': 173, 'input_token_details': {'audio': 0, 'cache_read': 0}, 'output_token_details': {'audio': 0, 'reasoning': 0}}), HumanMessage(content='say my name 3 times', additional_kwargs={}, response_metadata={}, id='96666130-97b7-46b0-b939-fc50a2459143'), HumanMessage(content='say my name 5 times', additional_kwargs={}, response_metadata={}, id='725abcbe-4546-42df-85e9-bbb5d4fd47a8')]}, next=('chatbot',), config={'configurable': {'thread_id': '2', 'checkpoint_ns': '', 'checkpoint_id': '1f04227d-e94e-6208-8008-37daf87af922'}}, metadata={'source': 'loop', 'writes': None, 'step': 8, 'parents': {}, 'thread_id': '2'}, created_at='2025-06-05T16:12:25.394222+00:00', parent_config={'configurable': {'thread_id': '2', 'checkpoint_ns': '', 'checkpoint_id': '1f04227d-e91e-6120-8007-673fdcad9ad1'}}, tasks=(PregelTask(id='7c69e662-46ff-4dd8-3308-22e615e5c243', name='chatbot', path=('__pregel_pull', 'chatbot'), error=None, interrupts=(), state=None, result={'messages': [AIMessage(content='Duy, Duy, Duy, Duy, Duy!', additional_kwargs={'refusal': None}, response_metadata={'token_usage': {'completion_tokens': 16, 'prompt_tokens': 196, 'total_tokens': 212, 'completion_tokens_details': {'accepted_prediction_tokens': 0, 'audio_tokens': 0, 'reasoning_tokens': 0, 'rejected_prediction_tokens': 0}, 'prompt_tokens_details': {'audio_tokens': 0, 'cached_tokens': 0}}, 'model_name': 'gpt-4o-mini-2024-07-18', 'system_fingerprint': 'fp_34a54ae93c', 'id': 'chatcmpl-Bf7UYfdp8P6EiGndFFvPzjHRuBvzk', 'service_tier': 'default', 'finish_reason': 'stop', 'logprobs': None}, id='run--4bd6ac0f-8b79-475c-9449-4c123d5db512-0', usage_metadata={'input_tokens': 196, 'output_tokens': 16, 'total_tokens': 212, 'input_token_details': {'audio': 0, 'cache_read': 0}, 'output_token_details': {'audio': 0, 'reasoning': 0}})]}),), interrupts=()),\n",
       " StateSnapshot(values={'messages': [HumanMessage(content='what is my name?', additional_kwargs={}, response_metadata={}, id='bc2015ff-1885-4e43-8522-4c8da87c8506'), AIMessage(content=\"I don't have access to your personal information, including your name. If you'd like me to refer to you by a specific name or if there's something else you'd like to share, feel free to let me know!\", additional_kwargs={'refusal': None}, response_metadata={'token_usage': {'completion_tokens': 43, 'prompt_tokens': 102, 'total_tokens': 145, 'completion_tokens_details': {'accepted_prediction_tokens': 0, 'audio_tokens': 0, 'reasoning_tokens': 0, 'rejected_prediction_tokens': 0}, 'prompt_tokens_details': {'audio_tokens': 0, 'cached_tokens': 0}}, 'model_name': 'gpt-4o-mini-2024-07-18', 'system_fingerprint': 'fp_34a54ae93c', 'id': 'chatcmpl-Bf7TILukx4ESZSwBNtpT2errQuGLH', 'service_tier': 'default', 'finish_reason': 'stop', 'logprobs': None}, id='run--d6596c5c-5f62-488c-b444-9e7eb776d2c8-0', usage_metadata={'input_tokens': 102, 'output_tokens': 43, 'total_tokens': 145, 'input_token_details': {'audio': 0, 'cache_read': 0}, 'output_token_details': {'audio': 0, 'reasoning': 0}}), HumanMessage(content='my name is Duy', additional_kwargs={}, response_metadata={}, id='67a67875-7521-4610-bb8e-f4ba86ed2ead'), AIMessage(content='Nice to meet you, Duy! How can I assist you today?', additional_kwargs={'refusal': None}, response_metadata={'token_usage': {'completion_tokens': 16, 'prompt_tokens': 157, 'total_tokens': 173, 'completion_tokens_details': {'accepted_prediction_tokens': 0, 'audio_tokens': 0, 'reasoning_tokens': 0, 'rejected_prediction_tokens': 0}, 'prompt_tokens_details': {'audio_tokens': 0, 'cached_tokens': 0}}, 'model_name': 'gpt-4o-mini-2024-07-18', 'system_fingerprint': 'fp_34a54ae93c', 'id': 'chatcmpl-Bf7TSEd4WegdHN5VTXkAvDUdzxRlj', 'service_tier': 'default', 'finish_reason': 'stop', 'logprobs': None}, id='run--53e7199d-2ae3-4606-998b-6df13faa4776-0', usage_metadata={'input_tokens': 157, 'output_tokens': 16, 'total_tokens': 173, 'input_token_details': {'audio': 0, 'cache_read': 0}, 'output_token_details': {'audio': 0, 'reasoning': 0}}), HumanMessage(content='say my name 3 times', additional_kwargs={}, response_metadata={}, id='96666130-97b7-46b0-b939-fc50a2459143')]}, next=('__start__',), config={'configurable': {'thread_id': '2', 'checkpoint_ns': '', 'checkpoint_id': '1f04227d-e91e-6120-8007-673fdcad9ad1'}}, metadata={'source': 'input', 'writes': {'__start__': {'messages': [{'role': 'user', 'content': 'say my name 5 times'}]}}, 'step': 7, 'parents': {}, 'thread_id': '2'}, created_at='2025-06-05T16:12:25.374533+00:00', parent_config={'configurable': {'thread_id': '2', 'checkpoint_ns': '', 'checkpoint_id': '1f04227b-bbdc-65ba-8006-c66cb222537b'}}, tasks=(PregelTask(id='d614bf4b-33ee-1d6b-c816-77dc4b610035', name='__start__', path=('__pregel_pull', '__start__'), error=None, interrupts=(), state=None, result={'messages': [{'role': 'user', 'content': 'say my name 5 times'}]}),), interrupts=()),\n",
       " StateSnapshot(values={'messages': [HumanMessage(content='what is my name?', additional_kwargs={}, response_metadata={}, id='bc2015ff-1885-4e43-8522-4c8da87c8506'), AIMessage(content=\"I don't have access to your personal information, including your name. If you'd like me to refer to you by a specific name or if there's something else you'd like to share, feel free to let me know!\", additional_kwargs={'refusal': None}, response_metadata={'token_usage': {'completion_tokens': 43, 'prompt_tokens': 102, 'total_tokens': 145, 'completion_tokens_details': {'accepted_prediction_tokens': 0, 'audio_tokens': 0, 'reasoning_tokens': 0, 'rejected_prediction_tokens': 0}, 'prompt_tokens_details': {'audio_tokens': 0, 'cached_tokens': 0}}, 'model_name': 'gpt-4o-mini-2024-07-18', 'system_fingerprint': 'fp_34a54ae93c', 'id': 'chatcmpl-Bf7TILukx4ESZSwBNtpT2errQuGLH', 'service_tier': 'default', 'finish_reason': 'stop', 'logprobs': None}, id='run--d6596c5c-5f62-488c-b444-9e7eb776d2c8-0', usage_metadata={'input_tokens': 102, 'output_tokens': 43, 'total_tokens': 145, 'input_token_details': {'audio': 0, 'cache_read': 0}, 'output_token_details': {'audio': 0, 'reasoning': 0}}), HumanMessage(content='my name is Duy', additional_kwargs={}, response_metadata={}, id='67a67875-7521-4610-bb8e-f4ba86ed2ead'), AIMessage(content='Nice to meet you, Duy! How can I assist you today?', additional_kwargs={'refusal': None}, response_metadata={'token_usage': {'completion_tokens': 16, 'prompt_tokens': 157, 'total_tokens': 173, 'completion_tokens_details': {'accepted_prediction_tokens': 0, 'audio_tokens': 0, 'reasoning_tokens': 0, 'rejected_prediction_tokens': 0}, 'prompt_tokens_details': {'audio_tokens': 0, 'cached_tokens': 0}}, 'model_name': 'gpt-4o-mini-2024-07-18', 'system_fingerprint': 'fp_34a54ae93c', 'id': 'chatcmpl-Bf7TSEd4WegdHN5VTXkAvDUdzxRlj', 'service_tier': 'default', 'finish_reason': 'stop', 'logprobs': None}, id='run--53e7199d-2ae3-4606-998b-6df13faa4776-0', usage_metadata={'input_tokens': 157, 'output_tokens': 16, 'total_tokens': 173, 'input_token_details': {'audio': 0, 'cache_read': 0}, 'output_token_details': {'audio': 0, 'reasoning': 0}}), HumanMessage(content='say my name 3 times', additional_kwargs={}, response_metadata={}, id='96666130-97b7-46b0-b939-fc50a2459143')]}, next=('chatbot',), config={'configurable': {'thread_id': '2', 'checkpoint_ns': '', 'checkpoint_id': '1f04227b-bbdc-65ba-8006-c66cb222537b'}}, metadata={'source': 'loop', 'writes': None, 'step': 6, 'parents': {}, 'thread_id': '2'}, created_at='2025-06-05T16:11:26.941936+00:00', parent_config={'configurable': {'thread_id': '2', 'checkpoint_ns': '', 'checkpoint_id': '1f04227b-bbdb-6214-8005-a8baad4ecf2a'}}, tasks=(PregelTask(id='ac087fed-b2e0-1ebb-b315-351553d3ab3d', name='chatbot', path=('__pregel_pull', 'chatbot'), error=None, interrupts=(), state=None, result=None),), interrupts=()),\n",
       " StateSnapshot(values={'messages': [HumanMessage(content='what is my name?', additional_kwargs={}, response_metadata={}, id='bc2015ff-1885-4e43-8522-4c8da87c8506'), AIMessage(content=\"I don't have access to your personal information, including your name. If you'd like me to refer to you by a specific name or if there's something else you'd like to share, feel free to let me know!\", additional_kwargs={'refusal': None}, response_metadata={'token_usage': {'completion_tokens': 43, 'prompt_tokens': 102, 'total_tokens': 145, 'completion_tokens_details': {'accepted_prediction_tokens': 0, 'audio_tokens': 0, 'reasoning_tokens': 0, 'rejected_prediction_tokens': 0}, 'prompt_tokens_details': {'audio_tokens': 0, 'cached_tokens': 0}}, 'model_name': 'gpt-4o-mini-2024-07-18', 'system_fingerprint': 'fp_34a54ae93c', 'id': 'chatcmpl-Bf7TILukx4ESZSwBNtpT2errQuGLH', 'service_tier': 'default', 'finish_reason': 'stop', 'logprobs': None}, id='run--d6596c5c-5f62-488c-b444-9e7eb776d2c8-0', usage_metadata={'input_tokens': 102, 'output_tokens': 43, 'total_tokens': 145, 'input_token_details': {'audio': 0, 'cache_read': 0}, 'output_token_details': {'audio': 0, 'reasoning': 0}}), HumanMessage(content='my name is Duy', additional_kwargs={}, response_metadata={}, id='67a67875-7521-4610-bb8e-f4ba86ed2ead'), AIMessage(content='Nice to meet you, Duy! How can I assist you today?', additional_kwargs={'refusal': None}, response_metadata={'token_usage': {'completion_tokens': 16, 'prompt_tokens': 157, 'total_tokens': 173, 'completion_tokens_details': {'accepted_prediction_tokens': 0, 'audio_tokens': 0, 'reasoning_tokens': 0, 'rejected_prediction_tokens': 0}, 'prompt_tokens_details': {'audio_tokens': 0, 'cached_tokens': 0}}, 'model_name': 'gpt-4o-mini-2024-07-18', 'system_fingerprint': 'fp_34a54ae93c', 'id': 'chatcmpl-Bf7TSEd4WegdHN5VTXkAvDUdzxRlj', 'service_tier': 'default', 'finish_reason': 'stop', 'logprobs': None}, id='run--53e7199d-2ae3-4606-998b-6df13faa4776-0', usage_metadata={'input_tokens': 157, 'output_tokens': 16, 'total_tokens': 173, 'input_token_details': {'audio': 0, 'cache_read': 0}, 'output_token_details': {'audio': 0, 'reasoning': 0}})]}, next=('__start__',), config={'configurable': {'thread_id': '2', 'checkpoint_ns': '', 'checkpoint_id': '1f04227b-bbdb-6214-8005-a8baad4ecf2a'}}, metadata={'source': 'input', 'writes': {'__start__': {'messages': [{'role': 'user', 'content': 'say my name 3 times'}]}}, 'step': 5, 'parents': {}, 'thread_id': '2'}, created_at='2025-06-05T16:11:26.941432+00:00', parent_config={'configurable': {'thread_id': '2', 'checkpoint_ns': '', 'checkpoint_id': '1f04227b-6f7c-6cec-8004-b82cb3ce6bfc'}}, tasks=(PregelTask(id='9b4e5bdd-d61e-365e-d93c-3b632be8c647', name='__start__', path=('__pregel_pull', '__start__'), error=None, interrupts=(), state=None, result={'messages': [{'role': 'user', 'content': 'say my name 3 times'}]}),), interrupts=()),\n",
       " StateSnapshot(values={'messages': [HumanMessage(content='what is my name?', additional_kwargs={}, response_metadata={}, id='bc2015ff-1885-4e43-8522-4c8da87c8506'), AIMessage(content=\"I don't have access to your personal information, including your name. If you'd like me to refer to you by a specific name or if there's something else you'd like to share, feel free to let me know!\", additional_kwargs={'refusal': None}, response_metadata={'token_usage': {'completion_tokens': 43, 'prompt_tokens': 102, 'total_tokens': 145, 'completion_tokens_details': {'accepted_prediction_tokens': 0, 'audio_tokens': 0, 'reasoning_tokens': 0, 'rejected_prediction_tokens': 0}, 'prompt_tokens_details': {'audio_tokens': 0, 'cached_tokens': 0}}, 'model_name': 'gpt-4o-mini-2024-07-18', 'system_fingerprint': 'fp_34a54ae93c', 'id': 'chatcmpl-Bf7TILukx4ESZSwBNtpT2errQuGLH', 'service_tier': 'default', 'finish_reason': 'stop', 'logprobs': None}, id='run--d6596c5c-5f62-488c-b444-9e7eb776d2c8-0', usage_metadata={'input_tokens': 102, 'output_tokens': 43, 'total_tokens': 145, 'input_token_details': {'audio': 0, 'cache_read': 0}, 'output_token_details': {'audio': 0, 'reasoning': 0}}), HumanMessage(content='my name is Duy', additional_kwargs={}, response_metadata={}, id='67a67875-7521-4610-bb8e-f4ba86ed2ead'), AIMessage(content='Nice to meet you, Duy! How can I assist you today?', additional_kwargs={'refusal': None}, response_metadata={'token_usage': {'completion_tokens': 16, 'prompt_tokens': 157, 'total_tokens': 173, 'completion_tokens_details': {'accepted_prediction_tokens': 0, 'audio_tokens': 0, 'reasoning_tokens': 0, 'rejected_prediction_tokens': 0}, 'prompt_tokens_details': {'audio_tokens': 0, 'cached_tokens': 0}}, 'model_name': 'gpt-4o-mini-2024-07-18', 'system_fingerprint': 'fp_34a54ae93c', 'id': 'chatcmpl-Bf7TSEd4WegdHN5VTXkAvDUdzxRlj', 'service_tier': 'default', 'finish_reason': 'stop', 'logprobs': None}, id='run--53e7199d-2ae3-4606-998b-6df13faa4776-0', usage_metadata={'input_tokens': 157, 'output_tokens': 16, 'total_tokens': 173, 'input_token_details': {'audio': 0, 'cache_read': 0}, 'output_token_details': {'audio': 0, 'reasoning': 0}})]}, next=(), config={'configurable': {'thread_id': '2', 'checkpoint_ns': '', 'checkpoint_id': '1f04227b-6f7c-6cec-8004-b82cb3ce6bfc'}}, metadata={'source': 'loop', 'writes': {'chatbot': {'messages': [AIMessage(content='Nice to meet you, Duy! How can I assist you today?', additional_kwargs={'refusal': None}, response_metadata={'token_usage': {'completion_tokens': 16, 'prompt_tokens': 157, 'total_tokens': 173, 'completion_tokens_details': {'accepted_prediction_tokens': 0, 'audio_tokens': 0, 'reasoning_tokens': 0, 'rejected_prediction_tokens': 0}, 'prompt_tokens_details': {'audio_tokens': 0, 'cached_tokens': 0}}, 'model_name': 'gpt-4o-mini-2024-07-18', 'system_fingerprint': 'fp_34a54ae93c', 'id': 'chatcmpl-Bf7TSEd4WegdHN5VTXkAvDUdzxRlj', 'service_tier': 'default', 'finish_reason': 'stop', 'logprobs': None}, id='run--53e7199d-2ae3-4606-998b-6df13faa4776-0', usage_metadata={'input_tokens': 157, 'output_tokens': 16, 'total_tokens': 173, 'input_token_details': {'audio': 0, 'cache_read': 0}, 'output_token_details': {'audio': 0, 'reasoning': 0}})]}}, 'step': 4, 'parents': {}, 'thread_id': '2'}, created_at='2025-06-05T16:11:18.933610+00:00', parent_config={'configurable': {'thread_id': '2', 'checkpoint_ns': '', 'checkpoint_id': '1f04227b-521e-6786-8003-fefb82a346eb'}}, tasks=(), interrupts=()),\n",
       " StateSnapshot(values={'messages': [HumanMessage(content='what is my name?', additional_kwargs={}, response_metadata={}, id='bc2015ff-1885-4e43-8522-4c8da87c8506'), AIMessage(content=\"I don't have access to your personal information, including your name. If you'd like me to refer to you by a specific name or if there's something else you'd like to share, feel free to let me know!\", additional_kwargs={'refusal': None}, response_metadata={'token_usage': {'completion_tokens': 43, 'prompt_tokens': 102, 'total_tokens': 145, 'completion_tokens_details': {'accepted_prediction_tokens': 0, 'audio_tokens': 0, 'reasoning_tokens': 0, 'rejected_prediction_tokens': 0}, 'prompt_tokens_details': {'audio_tokens': 0, 'cached_tokens': 0}}, 'model_name': 'gpt-4o-mini-2024-07-18', 'system_fingerprint': 'fp_34a54ae93c', 'id': 'chatcmpl-Bf7TILukx4ESZSwBNtpT2errQuGLH', 'service_tier': 'default', 'finish_reason': 'stop', 'logprobs': None}, id='run--d6596c5c-5f62-488c-b444-9e7eb776d2c8-0', usage_metadata={'input_tokens': 102, 'output_tokens': 43, 'total_tokens': 145, 'input_token_details': {'audio': 0, 'cache_read': 0}, 'output_token_details': {'audio': 0, 'reasoning': 0}}), HumanMessage(content='my name is Duy', additional_kwargs={}, response_metadata={}, id='67a67875-7521-4610-bb8e-f4ba86ed2ead')]}, next=('chatbot',), config={'configurable': {'thread_id': '2', 'checkpoint_ns': '', 'checkpoint_id': '1f04227b-521e-6786-8003-fefb82a346eb'}}, metadata={'source': 'loop', 'writes': None, 'step': 3, 'parents': {}, 'thread_id': '2'}, created_at='2025-06-05T16:11:15.854111+00:00', parent_config={'configurable': {'thread_id': '2', 'checkpoint_ns': '', 'checkpoint_id': '1f04227b-521c-6e36-8002-76053569c1a8'}}, tasks=(PregelTask(id='d3b44905-3744-deca-3d49-c74bfa811d3d', name='chatbot', path=('__pregel_pull', 'chatbot'), error=None, interrupts=(), state=None, result={'messages': [AIMessage(content='Nice to meet you, Duy! How can I assist you today?', additional_kwargs={'refusal': None}, response_metadata={'token_usage': {'completion_tokens': 16, 'prompt_tokens': 157, 'total_tokens': 173, 'completion_tokens_details': {'accepted_prediction_tokens': 0, 'audio_tokens': 0, 'reasoning_tokens': 0, 'rejected_prediction_tokens': 0}, 'prompt_tokens_details': {'audio_tokens': 0, 'cached_tokens': 0}}, 'model_name': 'gpt-4o-mini-2024-07-18', 'system_fingerprint': 'fp_34a54ae93c', 'id': 'chatcmpl-Bf7TSEd4WegdHN5VTXkAvDUdzxRlj', 'service_tier': 'default', 'finish_reason': 'stop', 'logprobs': None}, id='run--53e7199d-2ae3-4606-998b-6df13faa4776-0', usage_metadata={'input_tokens': 157, 'output_tokens': 16, 'total_tokens': 173, 'input_token_details': {'audio': 0, 'cache_read': 0}, 'output_token_details': {'audio': 0, 'reasoning': 0}})]}),), interrupts=()),\n",
       " StateSnapshot(values={'messages': [HumanMessage(content='what is my name?', additional_kwargs={}, response_metadata={}, id='bc2015ff-1885-4e43-8522-4c8da87c8506'), AIMessage(content=\"I don't have access to your personal information, including your name. If you'd like me to refer to you by a specific name or if there's something else you'd like to share, feel free to let me know!\", additional_kwargs={'refusal': None}, response_metadata={'token_usage': {'completion_tokens': 43, 'prompt_tokens': 102, 'total_tokens': 145, 'completion_tokens_details': {'accepted_prediction_tokens': 0, 'audio_tokens': 0, 'reasoning_tokens': 0, 'rejected_prediction_tokens': 0}, 'prompt_tokens_details': {'audio_tokens': 0, 'cached_tokens': 0}}, 'model_name': 'gpt-4o-mini-2024-07-18', 'system_fingerprint': 'fp_34a54ae93c', 'id': 'chatcmpl-Bf7TILukx4ESZSwBNtpT2errQuGLH', 'service_tier': 'default', 'finish_reason': 'stop', 'logprobs': None}, id='run--d6596c5c-5f62-488c-b444-9e7eb776d2c8-0', usage_metadata={'input_tokens': 102, 'output_tokens': 43, 'total_tokens': 145, 'input_token_details': {'audio': 0, 'cache_read': 0}, 'output_token_details': {'audio': 0, 'reasoning': 0}})]}, next=('__start__',), config={'configurable': {'thread_id': '2', 'checkpoint_ns': '', 'checkpoint_id': '1f04227b-521c-6e36-8002-76053569c1a8'}}, metadata={'source': 'input', 'writes': {'__start__': {'messages': [{'role': 'user', 'content': 'my name is Duy'}]}}, 'step': 2, 'parents': {}, 'thread_id': '2'}, created_at='2025-06-05T16:11:15.853460+00:00', parent_config={'configurable': {'thread_id': '2', 'checkpoint_ns': '', 'checkpoint_id': '1f04227b-11ac-6b3a-8001-11c027e7fe5c'}}, tasks=(PregelTask(id='e426ad9d-4af8-0a12-4491-3a5ee60d2319', name='__start__', path=('__pregel_pull', '__start__'), error=None, interrupts=(), state=None, result={'messages': [{'role': 'user', 'content': 'my name is Duy'}]}),), interrupts=()),\n",
       " StateSnapshot(values={'messages': [HumanMessage(content='what is my name?', additional_kwargs={}, response_metadata={}, id='bc2015ff-1885-4e43-8522-4c8da87c8506'), AIMessage(content=\"I don't have access to your personal information, including your name. If you'd like me to refer to you by a specific name or if there's something else you'd like to share, feel free to let me know!\", additional_kwargs={'refusal': None}, response_metadata={'token_usage': {'completion_tokens': 43, 'prompt_tokens': 102, 'total_tokens': 145, 'completion_tokens_details': {'accepted_prediction_tokens': 0, 'audio_tokens': 0, 'reasoning_tokens': 0, 'rejected_prediction_tokens': 0}, 'prompt_tokens_details': {'audio_tokens': 0, 'cached_tokens': 0}}, 'model_name': 'gpt-4o-mini-2024-07-18', 'system_fingerprint': 'fp_34a54ae93c', 'id': 'chatcmpl-Bf7TILukx4ESZSwBNtpT2errQuGLH', 'service_tier': 'default', 'finish_reason': 'stop', 'logprobs': None}, id='run--d6596c5c-5f62-488c-b444-9e7eb776d2c8-0', usage_metadata={'input_tokens': 102, 'output_tokens': 43, 'total_tokens': 145, 'input_token_details': {'audio': 0, 'cache_read': 0}, 'output_token_details': {'audio': 0, 'reasoning': 0}})]}, next=(), config={'configurable': {'thread_id': '2', 'checkpoint_ns': '', 'checkpoint_id': '1f04227b-11ac-6b3a-8001-11c027e7fe5c'}}, metadata={'source': 'loop', 'writes': {'chatbot': {'messages': [AIMessage(content=\"I don't have access to your personal information, including your name. If you'd like me to refer to you by a specific name or if there's something else you'd like to share, feel free to let me know!\", additional_kwargs={'refusal': None}, response_metadata={'token_usage': {'completion_tokens': 43, 'prompt_tokens': 102, 'total_tokens': 145, 'completion_tokens_details': {'accepted_prediction_tokens': 0, 'audio_tokens': 0, 'reasoning_tokens': 0, 'rejected_prediction_tokens': 0}, 'prompt_tokens_details': {'audio_tokens': 0, 'cached_tokens': 0}}, 'model_name': 'gpt-4o-mini-2024-07-18', 'system_fingerprint': 'fp_34a54ae93c', 'id': 'chatcmpl-Bf7TILukx4ESZSwBNtpT2errQuGLH', 'service_tier': 'default', 'finish_reason': 'stop', 'logprobs': None}, id='run--d6596c5c-5f62-488c-b444-9e7eb776d2c8-0', usage_metadata={'input_tokens': 102, 'output_tokens': 43, 'total_tokens': 145, 'input_token_details': {'audio': 0, 'cache_read': 0}, 'output_token_details': {'audio': 0, 'reasoning': 0}})]}}, 'step': 1, 'parents': {}, 'thread_id': '2'}, created_at='2025-06-05T16:11:09.096623+00:00', parent_config={'configurable': {'thread_id': '2', 'checkpoint_ns': '', 'checkpoint_id': '1f04227a-ff38-6724-8000-9051e247610e'}}, tasks=(), interrupts=()),\n",
       " StateSnapshot(values={'messages': [HumanMessage(content='what is my name?', additional_kwargs={}, response_metadata={}, id='bc2015ff-1885-4e43-8522-4c8da87c8506')]}, next=('chatbot',), config={'configurable': {'thread_id': '2', 'checkpoint_ns': '', 'checkpoint_id': '1f04227a-ff38-6724-8000-9051e247610e'}}, metadata={'source': 'loop', 'writes': None, 'step': 0, 'parents': {}, 'thread_id': '2'}, created_at='2025-06-05T16:11:07.161571+00:00', parent_config={'configurable': {'thread_id': '2', 'checkpoint_ns': '', 'checkpoint_id': '1f04227a-ff37-61f8-bfff-85cde604cc56'}}, tasks=(PregelTask(id='d0c2a7a2-9dd9-b168-aeee-a70fb50e7bbc', name='chatbot', path=('__pregel_pull', 'chatbot'), error=None, interrupts=(), state=None, result={'messages': [AIMessage(content=\"I don't have access to your personal information, including your name. If you'd like me to refer to you by a specific name or if there's something else you'd like to share, feel free to let me know!\", additional_kwargs={'refusal': None}, response_metadata={'token_usage': {'completion_tokens': 43, 'prompt_tokens': 102, 'total_tokens': 145, 'completion_tokens_details': {'accepted_prediction_tokens': 0, 'audio_tokens': 0, 'reasoning_tokens': 0, 'rejected_prediction_tokens': 0}, 'prompt_tokens_details': {'audio_tokens': 0, 'cached_tokens': 0}}, 'model_name': 'gpt-4o-mini-2024-07-18', 'system_fingerprint': 'fp_34a54ae93c', 'id': 'chatcmpl-Bf7TILukx4ESZSwBNtpT2errQuGLH', 'service_tier': 'default', 'finish_reason': 'stop', 'logprobs': None}, id='run--d6596c5c-5f62-488c-b444-9e7eb776d2c8-0', usage_metadata={'input_tokens': 102, 'output_tokens': 43, 'total_tokens': 145, 'input_token_details': {'audio': 0, 'cache_read': 0}, 'output_token_details': {'audio': 0, 'reasoning': 0}})]}),), interrupts=()),\n",
       " StateSnapshot(values={'messages': []}, next=('__start__',), config={'configurable': {'thread_id': '2', 'checkpoint_ns': '', 'checkpoint_id': '1f04227a-ff37-61f8-bfff-85cde604cc56'}}, metadata={'source': 'input', 'writes': {'__start__': {'messages': [{'role': 'user', 'content': 'what is my name?'}]}}, 'step': -1, 'parents': {}, 'thread_id': '2'}, created_at='2025-06-05T16:11:07.161032+00:00', parent_config=None, tasks=(PregelTask(id='08f8d047-e7f9-c325-00e9-230ebd4ae87a', name='__start__', path=('__pregel_pull', '__start__'), error=None, interrupts=(), state=None, result={'messages': [{'role': 'user', 'content': 'what is my name?'}]}),), interrupts=())]"
      ]
     },
     "execution_count": 20,
     "metadata": {},
     "output_type": "execute_result"
    }
   ],
   "source": [
    "# every super step (every time invoke the graph) the complete snapshot of the graph\n",
    "# starting from the most recent to the top and going back in time\n",
    "\n",
    "list(graph.get_state_history(config))"
   ]
  },
  {
   "cell_type": "markdown",
   "id": "f79a2dbe",
   "metadata": {},
   "source": [
    "### Time Travel\n",
    "\n",
    "Langchain allows to step back in time to any prior moment, which allows to build stable systems that can be recovered and rerun from any prior checkpoint.\n",
    "\n",
    "```json\n",
    "config = {\n",
    "    \"configurable\": {\n",
    "        \"thread_id\": 1,\n",
    "        \"checkpoint_id\": ...\n",
    "    }\n",
    "}\n",
    "```"
   ]
  },
  {
   "cell_type": "markdown",
   "id": "54c1cc3d",
   "metadata": {},
   "source": [
    "#### Store memory in SQL Datbase"
   ]
  },
  {
   "cell_type": "code",
   "execution_count": 26,
   "id": "55351ea4",
   "metadata": {},
   "outputs": [],
   "source": [
    "import sqlite3\n",
    "from langgraph.checkpoint.sqlite import SqliteSaver # pip install langgraph-checkpoint-sqlite\n",
    "\n",
    "db_path = './db/memory.db'\n",
    "conn = sqlite3.connect(db_path, check_same_thread=False)\n",
    "sql_memory = SqliteSaver(conn)"
   ]
  },
  {
   "cell_type": "code",
   "execution_count": 27,
   "id": "474338a6",
   "metadata": {},
   "outputs": [
    {
     "data": {
      "image/png": "[encoded data removed]",
      "text/plain": [
       "<IPython.core.display.Image object>"
      ]
     },
     "metadata": {},
     "output_type": "display_data"
    }
   ],
   "source": [
    "# Step 1 and 2\n",
    "graph_builder = StateGraph(State)\n",
    "\n",
    "# Step 3\n",
    "llm = ChatOpenAI(model='gpt-4o-mini')\n",
    "llm_with_tools = llm.bind_tools(tools=tools)\n",
    "\n",
    "def chatbot(state: State):\n",
    "    print(State)\n",
    "    return {\"messages\": [llm_with_tools.invoke(state['messages'])]}\n",
    "\n",
    "graph_builder.add_node(\"chatbot\", chatbot)\n",
    "graph_builder.add_node(\"tools\", ToolNode(tools=tools))\n",
    "\n",
    "# Step 4\n",
    "graph_builder.add_conditional_edges(\"chatbot\", tools_condition, \"tools\")\n",
    "graph_builder.add_edge(\"tools\", \"chatbot\")\n",
    "graph_builder.add_edge(START, \"chatbot\")\n",
    "\n",
    "# Step 5\n",
    "graph = graph_builder.compile(checkpointer=sql_memory) # use sql memory as checkpointer\n",
    "display(Image(\n",
    "    graph.get_graph().draw_mermaid_png()\n",
    "))"
   ]
  },
  {
   "cell_type": "code",
   "execution_count": null,
   "id": "7c8e0b14",
   "metadata": {},
   "outputs": [
    {
     "name": "stdout",
     "output_type": "stream",
     "text": [
      "* Running on local URL:  http://127.0.0.1:7867\n",
      "* To create a public link, set `share=True` in `launch()`.\n"
     ]
    },
    {
     "data": {
      "text/html": [
       "<div><iframe src=\"http://127.0.0.1:7867/\" width=\"100%\" height=\"500\" allow=\"autoplay; camera; microphone; clipboard-read; clipboard-write;\" frameborder=\"0\" allowfullscreen></iframe></div>"
      ],
      "text/plain": [
       "<IPython.core.display.HTML object>"
      ]
     },
     "metadata": {},
     "output_type": "display_data"
    },
    {
     "data": {
      "text/plain": []
     },
     "execution_count": 29,
     "metadata": {},
     "output_type": "execute_result"
    },
    {
     "name": "stdout",
     "output_type": "stream",
     "text": [
      "<class '__main__.State'>\n",
      "{'messages': [HumanMessage(content='Hi, what is my name?', additional_kwargs={}, response_metadata={}, id='92b85074-4d95-4874-b175-640cdd3b8446'), AIMessage(content=\"I don't have access to your personal information, including your name. You can tell me your name if you'd like!\", additional_kwargs={'refusal': None}, response_metadata={'token_usage': {'completion_tokens': 24, 'prompt_tokens': 104, 'total_tokens': 128, 'completion_tokens_details': {'accepted_prediction_tokens': 0, 'audio_tokens': 0, 'reasoning_tokens': 0, 'rejected_prediction_tokens': 0}, 'prompt_tokens_details': {'audio_tokens': 0, 'cached_tokens': 0}}, 'model_name': 'gpt-4o-mini-2024-07-18', 'system_fingerprint': 'fp_34a54ae93c', 'id': 'chatcmpl-Bf7X1rf8JlGbLEtAlwTvz1g2Bqvx3', 'service_tier': 'default', 'finish_reason': 'stop', 'logprobs': None}, id='run--3583b4dc-c27e-419d-bd4d-9c64f9ab0ee4-0', usage_metadata={'input_tokens': 104, 'output_tokens': 24, 'total_tokens': 128, 'input_token_details': {'audio': 0, 'cache_read': 0}, 'output_token_details': {'audio': 0, 'reasoning': 0}}), HumanMessage(content='My name is Anh/', additional_kwargs={}, response_metadata={}, id='de7d99d4-2a2c-4977-b35e-576cb64f8e95'), AIMessage(content='Nice to meet you, Anh! How can I assist you today?', additional_kwargs={'refusal': None}, response_metadata={'token_usage': {'completion_tokens': 15, 'prompt_tokens': 140, 'total_tokens': 155, 'completion_tokens_details': {'accepted_prediction_tokens': 0, 'audio_tokens': 0, 'reasoning_tokens': 0, 'rejected_prediction_tokens': 0}, 'prompt_tokens_details': {'audio_tokens': 0, 'cached_tokens': 0}}, 'model_name': 'gpt-4o-mini-2024-07-18', 'system_fingerprint': 'fp_34a54ae93c', 'id': 'chatcmpl-Bf7X7CItetfgGFhFxjXAHk5yB4WT8', 'service_tier': 'default', 'finish_reason': 'stop', 'logprobs': None}, id='run--68e5e32c-7ca7-4ad2-b952-8ce05734f871-0', usage_metadata={'input_tokens': 140, 'output_tokens': 15, 'total_tokens': 155, 'input_token_details': {'audio': 0, 'cache_read': 0}, 'output_token_details': {'audio': 0, 'reasoning': 0}}), HumanMessage(content='what is my name?', additional_kwargs={}, response_metadata={}, id='006453da-28a0-4f9e-a6e7-32271544cd5d'), AIMessage(content='Your name is Anh. How can I help you today, Anh?', additional_kwargs={'refusal': None}, response_metadata={'token_usage': {'completion_tokens': 15, 'prompt_tokens': 167, 'total_tokens': 182, 'completion_tokens_details': {'accepted_prediction_tokens': 0, 'audio_tokens': 0, 'reasoning_tokens': 0, 'rejected_prediction_tokens': 0}, 'prompt_tokens_details': {'audio_tokens': 0, 'cached_tokens': 0}}, 'model_name': 'gpt-4o-mini-2024-07-18', 'system_fingerprint': 'fp_34a54ae93c', 'id': 'chatcmpl-Bf7XLqGZHiiiO6Eax9O6xwLVjH9ex', 'service_tier': 'default', 'finish_reason': 'stop', 'logprobs': None}, id='run--7cd73245-95f7-4876-a138-69a0ad4b534f-0', usage_metadata={'input_tokens': 167, 'output_tokens': 15, 'total_tokens': 182, 'input_token_details': {'audio': 0, 'cache_read': 0}, 'output_token_details': {'audio': 0, 'reasoning': 0}})]}\n"
     ]
    }
   ],
   "source": [
    "config = {\"configurable\": {\"thread_id\": \"1\"}}\n",
    "def chat(user_input: str, history):\n",
    "    result = graph.invoke(\n",
    "        {\n",
    "            \"messages\": [\n",
    "                {\n",
    "                    \"role\": \"user\",\n",
    "                    \"content\": user_input,\n",
    "                }\n",
    "            ]\n",
    "        },\n",
    "        config=config # make sure to pass the config to the graph to use correct slot of memory\n",
    "    )\n",
    "    print(result)\n",
    "    return result[\"messages\"][-1].content\n",
    "    \n",
    "gr.ChatInterface(chat, type='messages').launch()"
   ]
  },
  {
   "cell_type": "code",
   "execution_count": null,
   "id": "2284dfb1",
   "metadata": {},
   "outputs": [
    {
     "name": "stdout",
     "output_type": "stream",
     "text": [
      "* Running on local URL:  http://127.0.0.1:7868\n",
      "* To create a public link, set `share=True` in `launch()`.\n"
     ]
    },
    {
     "data": {
      "text/html": [
       "<div><iframe src=\"http://127.0.0.1:7868/\" width=\"100%\" height=\"500\" allow=\"autoplay; camera; microphone; clipboard-read; clipboard-write;\" frameborder=\"0\" allowfullscreen></iframe></div>"
      ],
      "text/plain": [
       "<IPython.core.display.HTML object>"
      ]
     },
     "metadata": {},
     "output_type": "display_data"
    },
    {
     "data": {
      "text/plain": []
     },
     "execution_count": 30,
     "metadata": {},
     "output_type": "execute_result"
    },
    {
     "name": "stdout",
     "output_type": "stream",
     "text": [
      "<class '__main__.State'>\n",
      "{'messages': [HumanMessage(content='what is my name', additional_kwargs={}, response_metadata={}, id='b45e3616-1afd-454a-aedf-b83df4654f5d'), AIMessage(content=\"I don't have access to personal information like your name. If you'd like to share your name or if there's something else you need, feel free to let me know!\", additional_kwargs={'refusal': None}, response_metadata={'token_usage': {'completion_tokens': 34, 'prompt_tokens': 101, 'total_tokens': 135, 'completion_tokens_details': {'accepted_prediction_tokens': 0, 'audio_tokens': 0, 'reasoning_tokens': 0, 'rejected_prediction_tokens': 0}, 'prompt_tokens_details': {'audio_tokens': 0, 'cached_tokens': 0}}, 'model_name': 'gpt-4o-mini-2024-07-18', 'system_fingerprint': 'fp_34a54ae93c', 'id': 'chatcmpl-Bf7XhDY0itHOnkdDGDvxZKYl6vozC', 'service_tier': 'default', 'finish_reason': 'stop', 'logprobs': None}, id='run--b00ffade-4053-4a89-90f1-7892eeeda729-0', usage_metadata={'input_tokens': 101, 'output_tokens': 34, 'total_tokens': 135, 'input_token_details': {'audio': 0, 'cache_read': 0}, 'output_token_details': {'audio': 0, 'reasoning': 0}})]}\n",
      "<class '__main__.State'>\n",
      "{'messages': [HumanMessage(content='what is my name', additional_kwargs={}, response_metadata={}, id='b45e3616-1afd-454a-aedf-b83df4654f5d'), AIMessage(content=\"I don't have access to personal information like your name. If you'd like to share your name or if there's something else you need, feel free to let me know!\", additional_kwargs={'refusal': None}, response_metadata={'token_usage': {'completion_tokens': 34, 'prompt_tokens': 101, 'total_tokens': 135, 'completion_tokens_details': {'accepted_prediction_tokens': 0, 'audio_tokens': 0, 'reasoning_tokens': 0, 'rejected_prediction_tokens': 0}, 'prompt_tokens_details': {'audio_tokens': 0, 'cached_tokens': 0}}, 'model_name': 'gpt-4o-mini-2024-07-18', 'system_fingerprint': 'fp_34a54ae93c', 'id': 'chatcmpl-Bf7XhDY0itHOnkdDGDvxZKYl6vozC', 'service_tier': 'default', 'finish_reason': 'stop', 'logprobs': None}, id='run--b00ffade-4053-4a89-90f1-7892eeeda729-0', usage_metadata={'input_tokens': 101, 'output_tokens': 34, 'total_tokens': 135, 'input_token_details': {'audio': 0, 'cache_read': 0}, 'output_token_details': {'audio': 0, 'reasoning': 0}}), HumanMessage(content='my name is Duy', additional_kwargs={}, response_metadata={}, id='7a77ebf9-46a1-4e03-8b03-3e30c2103a16'), AIMessage(content='Nice to meet you, Duy! How can I assist you today?', additional_kwargs={'refusal': None}, response_metadata={'token_usage': {'completion_tokens': 16, 'prompt_tokens': 147, 'total_tokens': 163, 'completion_tokens_details': {'accepted_prediction_tokens': 0, 'audio_tokens': 0, 'reasoning_tokens': 0, 'rejected_prediction_tokens': 0}, 'prompt_tokens_details': {'audio_tokens': 0, 'cached_tokens': 0}}, 'model_name': 'gpt-4o-mini-2024-07-18', 'system_fingerprint': 'fp_34a54ae93c', 'id': 'chatcmpl-Bf7Xnn9qKviRbwhfmFakITQC6Q7nf', 'service_tier': 'default', 'finish_reason': 'stop', 'logprobs': None}, id='run--80a07840-e988-48c0-8fcb-ff91a6cd4e3b-0', usage_metadata={'input_tokens': 147, 'output_tokens': 16, 'total_tokens': 163, 'input_token_details': {'audio': 0, 'cache_read': 0}, 'output_token_details': {'audio': 0, 'reasoning': 0}})]}\n",
      "<class '__main__.State'>\n",
      "{'messages': [HumanMessage(content='what is my name', additional_kwargs={}, response_metadata={}, id='b45e3616-1afd-454a-aedf-b83df4654f5d'), AIMessage(content=\"I don't have access to personal information like your name. If you'd like to share your name or if there's something else you need, feel free to let me know!\", additional_kwargs={'refusal': None}, response_metadata={'token_usage': {'completion_tokens': 34, 'prompt_tokens': 101, 'total_tokens': 135, 'completion_tokens_details': {'accepted_prediction_tokens': 0, 'audio_tokens': 0, 'reasoning_tokens': 0, 'rejected_prediction_tokens': 0}, 'prompt_tokens_details': {'audio_tokens': 0, 'cached_tokens': 0}}, 'model_name': 'gpt-4o-mini-2024-07-18', 'system_fingerprint': 'fp_34a54ae93c', 'id': 'chatcmpl-Bf7XhDY0itHOnkdDGDvxZKYl6vozC', 'service_tier': 'default', 'finish_reason': 'stop', 'logprobs': None}, id='run--b00ffade-4053-4a89-90f1-7892eeeda729-0', usage_metadata={'input_tokens': 101, 'output_tokens': 34, 'total_tokens': 135, 'input_token_details': {'audio': 0, 'cache_read': 0}, 'output_token_details': {'audio': 0, 'reasoning': 0}}), HumanMessage(content='my name is Duy', additional_kwargs={}, response_metadata={}, id='7a77ebf9-46a1-4e03-8b03-3e30c2103a16'), AIMessage(content='Nice to meet you, Duy! How can I assist you today?', additional_kwargs={'refusal': None}, response_metadata={'token_usage': {'completion_tokens': 16, 'prompt_tokens': 147, 'total_tokens': 163, 'completion_tokens_details': {'accepted_prediction_tokens': 0, 'audio_tokens': 0, 'reasoning_tokens': 0, 'rejected_prediction_tokens': 0}, 'prompt_tokens_details': {'audio_tokens': 0, 'cached_tokens': 0}}, 'model_name': 'gpt-4o-mini-2024-07-18', 'system_fingerprint': 'fp_34a54ae93c', 'id': 'chatcmpl-Bf7Xnn9qKviRbwhfmFakITQC6Q7nf', 'service_tier': 'default', 'finish_reason': 'stop', 'logprobs': None}, id='run--80a07840-e988-48c0-8fcb-ff91a6cd4e3b-0', usage_metadata={'input_tokens': 147, 'output_tokens': 16, 'total_tokens': 163, 'input_token_details': {'audio': 0, 'cache_read': 0}, 'output_token_details': {'audio': 0, 'reasoning': 0}}), HumanMessage(content='say my name 3 times', additional_kwargs={}, response_metadata={}, id='9eab7c0d-51b0-4462-a725-d7f95a576516'), AIMessage(content='Duy, Duy, Duy!', additional_kwargs={'refusal': None}, response_metadata={'token_usage': {'completion_tokens': 10, 'prompt_tokens': 176, 'total_tokens': 186, 'completion_tokens_details': {'accepted_prediction_tokens': 0, 'audio_tokens': 0, 'reasoning_tokens': 0, 'rejected_prediction_tokens': 0}, 'prompt_tokens_details': {'audio_tokens': 0, 'cached_tokens': 0}}, 'model_name': 'gpt-4o-mini-2024-07-18', 'system_fingerprint': 'fp_34a54ae93c', 'id': 'chatcmpl-Bf7XviiW1Dwfvk4c7CdpY265eirTB', 'service_tier': 'default', 'finish_reason': 'stop', 'logprobs': None}, id='run--83f6cf18-185b-43d4-8c2b-72def1213ad1-0', usage_metadata={'input_tokens': 176, 'output_tokens': 10, 'total_tokens': 186, 'input_token_details': {'audio': 0, 'cache_read': 0}, 'output_token_details': {'audio': 0, 'reasoning': 0}})]}\n",
      "<class '__main__.State'>\n",
      "{'messages': [HumanMessage(content='what is my name', additional_kwargs={}, response_metadata={}, id='b45e3616-1afd-454a-aedf-b83df4654f5d'), AIMessage(content=\"I don't have access to personal information like your name. If you'd like to share your name or if there's something else you need, feel free to let me know!\", additional_kwargs={'refusal': None}, response_metadata={'token_usage': {'completion_tokens': 34, 'prompt_tokens': 101, 'total_tokens': 135, 'completion_tokens_details': {'accepted_prediction_tokens': 0, 'audio_tokens': 0, 'reasoning_tokens': 0, 'rejected_prediction_tokens': 0}, 'prompt_tokens_details': {'audio_tokens': 0, 'cached_tokens': 0}}, 'model_name': 'gpt-4o-mini-2024-07-18', 'system_fingerprint': 'fp_34a54ae93c', 'id': 'chatcmpl-Bf7XhDY0itHOnkdDGDvxZKYl6vozC', 'service_tier': 'default', 'finish_reason': 'stop', 'logprobs': None}, id='run--b00ffade-4053-4a89-90f1-7892eeeda729-0', usage_metadata={'input_tokens': 101, 'output_tokens': 34, 'total_tokens': 135, 'input_token_details': {'audio': 0, 'cache_read': 0}, 'output_token_details': {'audio': 0, 'reasoning': 0}}), HumanMessage(content='my name is Duy', additional_kwargs={}, response_metadata={}, id='7a77ebf9-46a1-4e03-8b03-3e30c2103a16'), AIMessage(content='Nice to meet you, Duy! How can I assist you today?', additional_kwargs={'refusal': None}, response_metadata={'token_usage': {'completion_tokens': 16, 'prompt_tokens': 147, 'total_tokens': 163, 'completion_tokens_details': {'accepted_prediction_tokens': 0, 'audio_tokens': 0, 'reasoning_tokens': 0, 'rejected_prediction_tokens': 0}, 'prompt_tokens_details': {'audio_tokens': 0, 'cached_tokens': 0}}, 'model_name': 'gpt-4o-mini-2024-07-18', 'system_fingerprint': 'fp_34a54ae93c', 'id': 'chatcmpl-Bf7Xnn9qKviRbwhfmFakITQC6Q7nf', 'service_tier': 'default', 'finish_reason': 'stop', 'logprobs': None}, id='run--80a07840-e988-48c0-8fcb-ff91a6cd4e3b-0', usage_metadata={'input_tokens': 147, 'output_tokens': 16, 'total_tokens': 163, 'input_token_details': {'audio': 0, 'cache_read': 0}, 'output_token_details': {'audio': 0, 'reasoning': 0}}), HumanMessage(content='say my name 3 times', additional_kwargs={}, response_metadata={}, id='9eab7c0d-51b0-4462-a725-d7f95a576516'), AIMessage(content='Duy, Duy, Duy!', additional_kwargs={'refusal': None}, response_metadata={'token_usage': {'completion_tokens': 10, 'prompt_tokens': 176, 'total_tokens': 186, 'completion_tokens_details': {'accepted_prediction_tokens': 0, 'audio_tokens': 0, 'reasoning_tokens': 0, 'rejected_prediction_tokens': 0}, 'prompt_tokens_details': {'audio_tokens': 0, 'cached_tokens': 0}}, 'model_name': 'gpt-4o-mini-2024-07-18', 'system_fingerprint': 'fp_34a54ae93c', 'id': 'chatcmpl-Bf7XviiW1Dwfvk4c7CdpY265eirTB', 'service_tier': 'default', 'finish_reason': 'stop', 'logprobs': None}, id='run--83f6cf18-185b-43d4-8c2b-72def1213ad1-0', usage_metadata={'input_tokens': 176, 'output_tokens': 10, 'total_tokens': 186, 'input_token_details': {'audio': 0, 'cache_read': 0}, 'output_token_details': {'audio': 0, 'reasoning': 0}}), HumanMessage(content='is my name Duy?', additional_kwargs={}, response_metadata={}, id='cc7adda2-a811-4b72-836e-22679ecef240'), AIMessage(content=\"Yes, you mentioned that your name is Duy. If there's anything specific you'd like to discuss or ask, feel free to let me know!\", additional_kwargs={'refusal': None}, response_metadata={'token_usage': {'completion_tokens': 30, 'prompt_tokens': 199, 'total_tokens': 229, 'completion_tokens_details': {'accepted_prediction_tokens': 0, 'audio_tokens': 0, 'reasoning_tokens': 0, 'rejected_prediction_tokens': 0}, 'prompt_tokens_details': {'audio_tokens': 0, 'cached_tokens': 0}}, 'model_name': 'gpt-4o-mini-2024-07-18', 'system_fingerprint': 'fp_34a54ae93c', 'id': 'chatcmpl-Bf7Y4b7vJCjQibzGnDsXtuEKJ9QHP', 'service_tier': 'default', 'finish_reason': 'stop', 'logprobs': None}, id='run--e9070472-3162-43df-9f1e-fa829ec3fffa-0', usage_metadata={'input_tokens': 199, 'output_tokens': 30, 'total_tokens': 229, 'input_token_details': {'audio': 0, 'cache_read': 0}, 'output_token_details': {'audio': 0, 'reasoning': 0}})]}\n",
      "<class '__main__.State'>\n",
      "{'messages': [HumanMessage(content='what is my name', additional_kwargs={}, response_metadata={}, id='b45e3616-1afd-454a-aedf-b83df4654f5d'), AIMessage(content=\"I don't have access to personal information like your name. If you'd like to share your name or if there's something else you need, feel free to let me know!\", additional_kwargs={'refusal': None}, response_metadata={'token_usage': {'completion_tokens': 34, 'prompt_tokens': 101, 'total_tokens': 135, 'completion_tokens_details': {'accepted_prediction_tokens': 0, 'audio_tokens': 0, 'reasoning_tokens': 0, 'rejected_prediction_tokens': 0}, 'prompt_tokens_details': {'audio_tokens': 0, 'cached_tokens': 0}}, 'model_name': 'gpt-4o-mini-2024-07-18', 'system_fingerprint': 'fp_34a54ae93c', 'id': 'chatcmpl-Bf7XhDY0itHOnkdDGDvxZKYl6vozC', 'service_tier': 'default', 'finish_reason': 'stop', 'logprobs': None}, id='run--b00ffade-4053-4a89-90f1-7892eeeda729-0', usage_metadata={'input_tokens': 101, 'output_tokens': 34, 'total_tokens': 135, 'input_token_details': {'audio': 0, 'cache_read': 0}, 'output_token_details': {'audio': 0, 'reasoning': 0}}), HumanMessage(content='my name is Duy', additional_kwargs={}, response_metadata={}, id='7a77ebf9-46a1-4e03-8b03-3e30c2103a16'), AIMessage(content='Nice to meet you, Duy! How can I assist you today?', additional_kwargs={'refusal': None}, response_metadata={'token_usage': {'completion_tokens': 16, 'prompt_tokens': 147, 'total_tokens': 163, 'completion_tokens_details': {'accepted_prediction_tokens': 0, 'audio_tokens': 0, 'reasoning_tokens': 0, 'rejected_prediction_tokens': 0}, 'prompt_tokens_details': {'audio_tokens': 0, 'cached_tokens': 0}}, 'model_name': 'gpt-4o-mini-2024-07-18', 'system_fingerprint': 'fp_34a54ae93c', 'id': 'chatcmpl-Bf7Xnn9qKviRbwhfmFakITQC6Q7nf', 'service_tier': 'default', 'finish_reason': 'stop', 'logprobs': None}, id='run--80a07840-e988-48c0-8fcb-ff91a6cd4e3b-0', usage_metadata={'input_tokens': 147, 'output_tokens': 16, 'total_tokens': 163, 'input_token_details': {'audio': 0, 'cache_read': 0}, 'output_token_details': {'audio': 0, 'reasoning': 0}}), HumanMessage(content='say my name 3 times', additional_kwargs={}, response_metadata={}, id='9eab7c0d-51b0-4462-a725-d7f95a576516'), AIMessage(content='Duy, Duy, Duy!', additional_kwargs={'refusal': None}, response_metadata={'token_usage': {'completion_tokens': 10, 'prompt_tokens': 176, 'total_tokens': 186, 'completion_tokens_details': {'accepted_prediction_tokens': 0, 'audio_tokens': 0, 'reasoning_tokens': 0, 'rejected_prediction_tokens': 0}, 'prompt_tokens_details': {'audio_tokens': 0, 'cached_tokens': 0}}, 'model_name': 'gpt-4o-mini-2024-07-18', 'system_fingerprint': 'fp_34a54ae93c', 'id': 'chatcmpl-Bf7XviiW1Dwfvk4c7CdpY265eirTB', 'service_tier': 'default', 'finish_reason': 'stop', 'logprobs': None}, id='run--83f6cf18-185b-43d4-8c2b-72def1213ad1-0', usage_metadata={'input_tokens': 176, 'output_tokens': 10, 'total_tokens': 186, 'input_token_details': {'audio': 0, 'cache_read': 0}, 'output_token_details': {'audio': 0, 'reasoning': 0}}), HumanMessage(content='is my name Duy?', additional_kwargs={}, response_metadata={}, id='cc7adda2-a811-4b72-836e-22679ecef240'), AIMessage(content=\"Yes, you mentioned that your name is Duy. If there's anything specific you'd like to discuss or ask, feel free to let me know!\", additional_kwargs={'refusal': None}, response_metadata={'token_usage': {'completion_tokens': 30, 'prompt_tokens': 199, 'total_tokens': 229, 'completion_tokens_details': {'accepted_prediction_tokens': 0, 'audio_tokens': 0, 'reasoning_tokens': 0, 'rejected_prediction_tokens': 0}, 'prompt_tokens_details': {'audio_tokens': 0, 'cached_tokens': 0}}, 'model_name': 'gpt-4o-mini-2024-07-18', 'system_fingerprint': 'fp_34a54ae93c', 'id': 'chatcmpl-Bf7Y4b7vJCjQibzGnDsXtuEKJ9QHP', 'service_tier': 'default', 'finish_reason': 'stop', 'logprobs': None}, id='run--e9070472-3162-43df-9f1e-fa829ec3fffa-0', usage_metadata={'input_tokens': 199, 'output_tokens': 30, 'total_tokens': 229, 'input_token_details': {'audio': 0, 'cache_read': 0}, 'output_token_details': {'audio': 0, 'reasoning': 0}}), HumanMessage(content='what is my name', additional_kwargs={}, response_metadata={}, id='b77f2c60-5227-49f3-ba22-39a967492080'), AIMessage(content='Your name is Duy.', additional_kwargs={'refusal': None}, response_metadata={'token_usage': {'completion_tokens': 7, 'prompt_tokens': 240, 'total_tokens': 247, 'completion_tokens_details': {'accepted_prediction_tokens': 0, 'audio_tokens': 0, 'reasoning_tokens': 0, 'rejected_prediction_tokens': 0}, 'prompt_tokens_details': {'audio_tokens': 0, 'cached_tokens': 0}}, 'model_name': 'gpt-4o-mini-2024-07-18', 'system_fingerprint': 'fp_34a54ae93c', 'id': 'chatcmpl-Bf7YKeLYpso6D4VXrxysQHc3sXoC3', 'service_tier': 'default', 'finish_reason': 'stop', 'logprobs': None}, id='run--b51380bd-47c9-4d26-b479-d09b89b4652d-0', usage_metadata={'input_tokens': 240, 'output_tokens': 7, 'total_tokens': 247, 'input_token_details': {'audio': 0, 'cache_read': 0}, 'output_token_details': {'audio': 0, 'reasoning': 0}})]}\n"
     ]
    }
   ],
   "source": [
    "config = {\"configurable\": {\"thread_id\": \"2\"}}\n",
    "def chat(user_input: str, history):\n",
    "    result = graph.invoke(\n",
    "        {\n",
    "            \"messages\": [\n",
    "                {\n",
    "                    \"role\": \"user\",\n",
    "                    \"content\": user_input,\n",
    "                }\n",
    "            ]\n",
    "        },\n",
    "        config=config # make sure to pass the config to the graph to use correct slot of memory\n",
    "    )\n",
    "    print(result)\n",
    "    return result[\"messages\"][-1].content\n",
    "    \n",
    "gr.ChatInterface(chat, type='messages').launch()"
   ]
  },
  {
   "cell_type": "code",
   "execution_count": null,
   "id": "bde6841c",
   "metadata": {},
   "outputs": [],
   "source": []
  }
 ],
 "metadata": {
  "kernelspec": {
   "display_name": ".venv",
   "language": "python",
   "name": "python3"
  },
  "language_info": {
   "codemirror_mode": {
    "name": "ipython",
    "version": 3
   },
   "file_extension": ".py",
   "mimetype": "text/x-python",
   "name": "python",
   "nbconvert_exporter": "python",
   "pygments_lexer": "ipython3",
   "version": "3.10.17"
  }
 },
 "nbformat": 4,
 "nbformat_minor": 5
}
