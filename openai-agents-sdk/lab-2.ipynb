{
 "cells": [
  {
   "cell_type": "code",
   "execution_count": 1,
   "id": "82a0f0f8",
   "metadata": {},
   "outputs": [],
   "source": [
    "import os\n",
    "import asyncio\n",
    "from dotenv import load_dotenv\n",
    "from openai.types.responses import ResponseTextDeltaEvent\n",
    "from typing import Dict\n",
    "\n",
    "from agents import Agent, Runner, trace, function_tool\n",
    "import sendgrid\n",
    "from sendgrid.helpers.mail import Mail, Email, To, Content\n"
   ]
  },
  {
   "cell_type": "code",
   "execution_count": 2,
   "id": "3a9efb97",
   "metadata": {},
   "outputs": [
    {
     "data": {
      "text/plain": [
       "True"
      ]
     },
     "execution_count": 2,
     "metadata": {},
     "output_type": "execute_result"
    }
   ],
   "source": [
    "load_dotenv()"
   ]
  },
  {
   "cell_type": "markdown",
   "id": "342decac",
   "metadata": {},
   "source": [
    "### Part 1: Agent workflow"
   ]
  },
  {
   "cell_type": "code",
   "execution_count": 6,
   "id": "28fcbfca",
   "metadata": {},
   "outputs": [],
   "source": [
    "instructions1 = \"You are a sales agent working for DAnhI, \\\n",
    "a company that provides a SaaS tool for ensuring SOC2 compliance and preparing for audits, powered by AI. \\\n",
    "You write professional, serious cold emails.\"\n",
    "\n",
    "instructions2 = \"You are a humorous, engaging sales agent working for DAnhI, \\\n",
    "a company that provides a SaaS tool for ensuring SOC2 compliance and preparing for audits, powered by AI. \\\n",
    "You write witty, engaging cold emails that are likely to get a response.\"\n",
    "\n",
    "instructions3 = \"You are a busy sales agent working for DAnhI, \\\n",
    "a company that provides a SaaS tool for ensuring SOC2 compliance and preparing for audits, powered by AI. \\\n",
    "You write concise, to the point cold emails.\""
   ]
  },
  {
   "cell_type": "code",
   "execution_count": 7,
   "id": "9f4d6001",
   "metadata": {},
   "outputs": [],
   "source": [
    "sales_agent1 = Agent(\n",
    "    name=\"Professional Sales Agent\",\n",
    "    instructions=instructions1,\n",
    "    model=\"gpt-4o-mini\"\n",
    ")\n",
    "\n",
    "sales_agent2 = Agent(\n",
    "    name=\"Engaging Sales Agent\",\n",
    "    instructions=instructions2,\n",
    "    model=\"gpt-4o-mini\"\n",
    ")\n",
    "\n",
    "sales_agent3 = Agent(\n",
    "    name=\"Busy Sales Agent\",\n",
    "    instructions=instructions3,\n",
    "    model=\"gpt-4o-mini\"\n",
    ")"
   ]
  },
  {
   "cell_type": "code",
   "execution_count": null,
   "id": "dd24ce77",
   "metadata": {},
   "outputs": [],
   "source": [
    "message = 'Write a cold sales email'\n",
    "\n",
    "# Run the agent\n",
    "result = Runner.run_streamed(sales_agent1, message)\n",
    "\n",
    "# Stream the response\n",
    "async for event in result.stream_events():\n",
    "    if event.type == 'raw_response_event' and isinstance(event.data, ResponseTextDeltaEvent):\n",
    "        print(event.data.delta, end='', flush=True)"
   ]
  },
  {
   "cell_type": "code",
   "execution_count": null,
   "id": "785acc30",
   "metadata": {},
   "outputs": [],
   "source": [
    "# Sales Picker Agent: pick the best email MANUALLY\n",
    "sales_picker = Agent(\n",
    "    name=\"Sales Picker\",\n",
    "    instructions=\"You pick the best cold sales email from the given options. \\\n",
    "Imagine you are a customer and pick the one you are most likely to respond to. \\\n",
    "Do not give an explanation; reply with the selected email only.\",\n",
    "    model=\"gpt-4o-mini\"\n",
    ")"
   ]
  },
  {
   "cell_type": "code",
   "execution_count": null,
   "id": "543a1544",
   "metadata": {},
   "outputs": [],
   "source": [
    "with trace('Selection from sale emails'):\n",
    "    results = await asyncio.gather(\n",
    "        Runner.run(sales_agent1, message),\n",
    "        Runner.run(sales_agent2, message),\n",
    "        Runner.run(sales_agent3, message),\n",
    "    )\n",
    "    \n",
    "    outputs = [result.final_output for result in results]\n",
    "    \n",
    "    emails = 'Cold sales email:\\n\\n'.join(outputs)\n",
    "    \n",
    "    best_email = await Runner.run(sales_picker, emails)\n",
    "    \n",
    "    print(f'Best sale email:\\n{best_email.final_output}')"
   ]
  },
  {
   "cell_type": "markdown",
   "id": "4b5cadd2",
   "metadata": {},
   "source": [
    "### Part 2: Tools"
   ]
  },
  {
   "cell_type": "code",
   "execution_count": 44,
   "id": "7c9a0dc1",
   "metadata": {},
   "outputs": [],
   "source": [
    "@function_tool\n",
    "def send_email(body: str):\n",
    "    '''Send email with the given body to all sales prospects using SendGrid API'''\n",
    "    sg = sendgrid.SendGridAPIClient(api_key=os.environ.get('SENDGRID_API_KEY'))\n",
    "    from_email = Email('anh.leduy04@hcmut.edu.vn') # Verified sender\n",
    "    to_email = To('duyanhlucas302@gmail.com') # To recipient\n",
    "    subject = 'Cold sales email'\n",
    "    content = Content('text/plain', body)\n",
    "    mail = Mail(from_email, to_email, subject, content).get()\n",
    "    response = sg.client.mail.send.post(request_body=mail)\n",
    "    return {'status': 'success'}"
   ]
  },
  {
   "cell_type": "code",
   "execution_count": 45,
   "id": "cb73934b",
   "metadata": {},
   "outputs": [
    {
     "data": {
      "text/plain": [
       "FunctionTool(name='send_email', description='Send email with the given body to all sales prospects using SendGrid API', params_json_schema={'properties': {'body': {'title': 'Body', 'type': 'string'}}, 'required': ['body'], 'title': 'send_email_args', 'type': 'object', 'additionalProperties': False}, on_invoke_tool=<function function_tool.<locals>._create_function_tool.<locals>._on_invoke_tool at 0x10bcc3880>, strict_json_schema=True)"
      ]
     },
     "execution_count": 45,
     "metadata": {},
     "output_type": "execute_result"
    }
   ],
   "source": [
    "# Automatically convert function to tool, with the boilerplate json created\n",
    "send_email"
   ]
  },
  {
   "cell_type": "code",
   "execution_count": 46,
   "id": "8c9704ab",
   "metadata": {},
   "outputs": [],
   "source": [
    "# We can also convert an agent into a tool\n",
    "# If this tool is called, it will run the agent to make a call to LLM\n",
    "tool1 = sales_agent1.as_tool(\n",
    "    tool_name='sales_agent1',\n",
    "    tool_description=message\n",
    ") "
   ]
  },
  {
   "cell_type": "code",
   "execution_count": 47,
   "id": "3e86e3a4",
   "metadata": {},
   "outputs": [
    {
     "data": {
      "text/plain": [
       "FunctionTool(name='sales_agent1', description='Write a cold sales email', params_json_schema={'properties': {'input': {'title': 'Input', 'type': 'string'}}, 'required': ['input'], 'title': 'sales_agent1_args', 'type': 'object', 'additionalProperties': False}, on_invoke_tool=<function function_tool.<locals>._create_function_tool.<locals>._on_invoke_tool at 0x10bcc3eb0>, strict_json_schema=True)"
      ]
     },
     "execution_count": 47,
     "metadata": {},
     "output_type": "execute_result"
    }
   ],
   "source": [
    "tool1"
   ]
  },
  {
   "cell_type": "code",
   "execution_count": 48,
   "id": "a96ba558",
   "metadata": {},
   "outputs": [],
   "source": [
    "tool2 = sales_agent2.as_tool(tool_name='sales_agent2', tool_description=message)\n",
    "tool3 = sales_agent3.as_tool(tool_name='sales_agent3', tool_description=message)\n",
    "\n",
    "tools = [tool1, tool2, tool3, send_email]"
   ]
  },
  {
   "cell_type": "code",
   "execution_count": 49,
   "id": "d6cdf407",
   "metadata": {},
   "outputs": [
    {
     "data": {
      "text/plain": [
       "[FunctionTool(name='sales_agent1', description='Write a cold sales email', params_json_schema={'properties': {'input': {'title': 'Input', 'type': 'string'}}, 'required': ['input'], 'title': 'sales_agent1_args', 'type': 'object', 'additionalProperties': False}, on_invoke_tool=<function function_tool.<locals>._create_function_tool.<locals>._on_invoke_tool at 0x10bcc3eb0>, strict_json_schema=True),\n",
       " FunctionTool(name='sales_agent2', description='Write a cold sales email', params_json_schema={'properties': {'input': {'title': 'Input', 'type': 'string'}}, 'required': ['input'], 'title': 'sales_agent2_args', 'type': 'object', 'additionalProperties': False}, on_invoke_tool=<function function_tool.<locals>._create_function_tool.<locals>._on_invoke_tool at 0x10bcc3250>, strict_json_schema=True),\n",
       " FunctionTool(name='sales_agent3', description='Write a cold sales email', params_json_schema={'properties': {'input': {'title': 'Input', 'type': 'string'}}, 'required': ['input'], 'title': 'sales_agent3_args', 'type': 'object', 'additionalProperties': False}, on_invoke_tool=<function function_tool.<locals>._create_function_tool.<locals>._on_invoke_tool at 0x109b83010>, strict_json_schema=True),\n",
       " FunctionTool(name='send_email', description='Send email with the given body to all sales prospects using SendGrid API', params_json_schema={'properties': {'body': {'title': 'Body', 'type': 'string'}}, 'required': ['body'], 'title': 'send_email_args', 'type': 'object', 'additionalProperties': False}, on_invoke_tool=<function function_tool.<locals>._create_function_tool.<locals>._on_invoke_tool at 0x10bcc3880>, strict_json_schema=True)]"
      ]
     },
     "execution_count": 49,
     "metadata": {},
     "output_type": "execute_result"
    }
   ],
   "source": [
    "tools"
   ]
  },
  {
   "cell_type": "code",
   "execution_count": 51,
   "id": "b0139f29",
   "metadata": {},
   "outputs": [
    {
     "name": "stdout",
     "output_type": "stream",
     "text": [
      "RunResult:\n",
      "- Last agent: Agent(name=\"Sales Manager\", ...)\n",
      "- Final output (str):\n",
      "    The cold sales email has been successfully sent to \"Dear CEO.\" If you need anything else, let me know!\n",
      "- 9 new item(s)\n",
      "- 3 raw response(s)\n",
      "- 0 input guardrail result(s)\n",
      "- 0 output guardrail result(s)\n",
      "(See `RunResult` for more details)\n"
     ]
    }
   ],
   "source": [
    "# Sales Manager Agent:\n",
    "manager_instructions = \"\"\"You are a sales manager working for DAnhI. You use the tools given to you to generate cold sales emails. \\\n",
    "You never generate sales emails yourself; you always use the tools. \\\n",
    "You try all 3 sales_agent tools once before choosing the best one. \\\n",
    "**Note**: Only pick ONE BEST email and use the send_email tool to send that ONE BEST email to the user.\n",
    "\"\"\"\n",
    "\n",
    "sales_manager_agent = Agent(\n",
    "    name='Sales Manager',\n",
    "    instructions=manager_instructions,\n",
    "    tools=tools,\n",
    "    model='gpt-4o-mini'\n",
    ")\n",
    "\n",
    "with trace('Sales Manager'):\n",
    "    result = await Runner.run(sales_manager_agent, 'Send a cold sales email address to \"Dear CEO\"')\n",
    "    print(result)"
   ]
  },
  {
   "cell_type": "markdown",
   "id": "640815c7",
   "metadata": {},
   "source": [
    "### Part 3: Handoff"
   ]
  },
  {
   "cell_type": "markdown",
   "id": "c358f9dd",
   "metadata": {},
   "source": [
    "In both cases, an Agent can collaborate with another Agent\n",
    "\n",
    "But there are difference between Handoff vs. Agent as tool:\n",
    "- Handoff: Passing its entire job to another agent (when passing the job, it will not return)\n",
    "- Agent as tool: Use another agent as a tool to complete its job (receive a response from another agent and continue its job)"
   ]
  },
  {
   "cell_type": "code",
   "execution_count": null,
   "id": "1c5cbc4e",
   "metadata": {},
   "outputs": [],
   "source": [
    "# Define subject writer agent:\n",
    "subject_instructions = \"You can write a subject for a cold sales email. \\\n",
    "You are given a message and you need to write a subject for an email that is likely to get a response.\"\n",
    "\n",
    "subject_writer = Agent(\n",
    "    name=\"Email subject writer\",\n",
    "    instructions=subject_instructions,\n",
    "    model=\"gpt-4o-mini\"\n",
    ")\n",
    "\n",
    "subject_tool = subject_writer.as_tool(\n",
    "    tool_name=\"subject_writer\",\n",
    "    tool_description=\"Write a subject for a cold sales email\"\n",
    ")\n",
    "\n",
    "# Define html converter agent:\n",
    "html_converter = Agent(\n",
    "    name=\"HTML email body converter\",\n",
    "    instructions=html_instructions,\n",
    "    model=\"gpt-4o-mini\"\n",
    ")\n",
    "\n",
    "html_instructions = \"You can convert a text email body to an HTML email body. \\\n",
    "You are given a text email body which might have some markdown \\\n",
    "and you need to convert it to an HTML email body with simple, clear, compelling layout and design.\"\n",
    "\n",
    "html_tool = html_converter.as_tool(\n",
    "    tool_name=\"html_converter\",\n",
    "    tool_description=\"Convert a text email body to an HTML email body\"\n",
    ")\n"
   ]
  },
  {
   "cell_type": "code",
   "execution_count": null,
   "id": "b59b1252",
   "metadata": {},
   "outputs": [],
   "source": [
    "@function_tool\n",
    "def send_html_email(subject: str, html_body: str) -> Dict[str, str]:\n",
    "    \"\"\"Send out an email with the given subject and HTML body to all sales prospects\"\"\"\n",
    "    sg = sendgrid.SendGridAPIClient(api_key=os.environ.get('SENDGRID_API_KEY'))\n",
    "    from_email = Email(\"anh.leduy04@hcmut.edu.vn\")\n",
    "    to_email = To(\"duyanhlucas302@gmail.com\")\n",
    "    content = Content(\"text/html\", html_body)\n",
    "    mail = Mail(from_email, to_email, subject, content).get()\n",
    "    response = sg.client.mail.send.post(request_body=mail)\n",
    "    return {\"status\": \"success\"}"
   ]
  },
  {
   "cell_type": "code",
   "execution_count": 56,
   "id": "e2b2d27c",
   "metadata": {},
   "outputs": [],
   "source": [
    "tools = [subject_tool, html_tool, send_html_email]\n",
    "handoffs = [emailer_agent]"
   ]
  },
  {
   "cell_type": "code",
   "execution_count": null,
   "id": "59acb274",
   "metadata": {},
   "outputs": [],
   "source": [
    "# Define email sender agent (handoff task from Sales Manager)\n",
    "emailer_instructions =\"You are an email formatter and sender. You receive the body of an email to be sent. \\\n",
    "You first use the subject_writer tool to write a subject for the email, then use the html_converter tool to convert the body to HTML. \\\n",
    "Finally, you use the send_html_email tool to send the email with the subject and HTML body.\"\n",
    "\n",
    "emailer_agent = Agent(\n",
    "    name=\"Email Manager\",\n",
    "    instructions=emailer_instructions,\n",
    "    tools=tools,\n",
    "    model=\"gpt-4o-mini\",\n",
    "    handoff_description=\"Convert an email to HTML and send it\"\n",
    ")"
   ]
  },
  {
   "cell_type": "code",
   "execution_count": null,
   "id": "51a3391e",
   "metadata": {},
   "outputs": [],
   "source": [
    "sales_manager_instructions = \"You are a sales manager working for DAnhI. You use the tools given to you to generate cold sales emails. \\\n",
    "You never generate sales emails yourself; you always use the tools. \\\n",
    "You try all 3 sales agent tools at least once before choosing the best one. \\\n",
    "You can use the tools multiple times if you're not satisfied with the results from the first try. \\\n",
    "You ONLY select the ONE BEST EMAIL using your own judgement of which email will be most effective. \\\n",
    "After picking the email, you MUST HANDOFF to the Email Manager agent to format and send the email.\"\n",
    "\n",
    "sales_manager_agent_with_handoff = Agent(\n",
    "    name=\"Sales Manager\",\n",
    "    instructions=sales_manager_instructions,\n",
    "    tools=tools,\n",
    "    handoffs=handoffs,\n",
    "    model=\"gpt-4o-mini\"\n",
    ")\n",
    "\n",
    "message = \"Send out a cold sales email addressed to Dear CEO from Alice\"\n",
    "\n",
    "with trace(\"Automated SDR\"):\n",
    "    result = await Runner.run(sales_manager_agent_with_handoff, message)"
   ]
  }
 ],
 "metadata": {
  "kernelspec": {
   "display_name": ".venv",
   "language": "python",
   "name": "python3"
  },
  "language_info": {
   "codemirror_mode": {
    "name": "ipython",
    "version": 3
   },
   "file_extension": ".py",
   "mimetype": "text/x-python",
   "name": "python",
   "nbconvert_exporter": "python",
   "pygments_lexer": "ipython3",
   "version": "3.10.17"
  }
 },
 "nbformat": 4,
 "nbformat_minor": 5
}
