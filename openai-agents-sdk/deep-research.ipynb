{
 "cells": [
  {
   "cell_type": "code",
   "execution_count": 1,
   "id": "5d50ccc7",
   "metadata": {},
   "outputs": [],
   "source": [
    "import asyncio\n",
    "import os\n",
    "from dotenv import load_dotenv\n",
    "from typing import Dict\n",
    "from pydantic import BaseModel, Field\n",
    "from IPython.display import display, Markdown\n",
    "\n",
    "import sendgrid\n",
    "from sendgrid.helpers.mail import Mail, Email, To, Content\n",
    "\n",
    "from agents import (\n",
    "    Agent,\n",
    "    WebSearchTool,\n",
    "    trace,\n",
    "    Runner,\n",
    "    gen_trace_id,\n",
    "    function_tool,\n",
    ")\n",
    "from agents.model_settings import ModelSettings"
   ]
  },
  {
   "cell_type": "code",
   "execution_count": 5,
   "id": "4c343ca8",
   "metadata": {},
   "outputs": [
    {
     "data": {
      "text/plain": [
       "True"
      ]
     },
     "execution_count": 5,
     "metadata": {},
     "output_type": "execute_result"
    }
   ],
   "source": [
    "load_dotenv(override=True)"
   ]
  },
  {
   "cell_type": "markdown",
   "id": "e89a3a7a",
   "metadata": {},
   "source": [
    "## OpenAI Hosted Tools\n",
    "\n",
    "- `WebSearchTool`: lets agent search the web\n",
    "- `FileSearchTool`: allows retrieving information from your OpenAI Vector Store\n",
    "- `ComputerTool`: allows automating computer use tasks like taking screenshots, clicking\n",
    "\n",
    "**Note**: Check [OpenAI Hosted Tools](https://platform.openai.com/docs/guides/agents/hosted-tools) and [Pricing](https://platform.openai.com/docs/pricing) for more information"
   ]
  },
  {
   "cell_type": "code",
   "execution_count": 16,
   "id": "65c26d6c",
   "metadata": {},
   "outputs": [],
   "source": [
    "INSTRUCTIONS = \"You are a research assistant. Given a search term, you search the web for that term and \\\n",
    "produce a concise summary of the results. The summary must 2-3 paragraphs and less than 300 \\\n",
    "words. Capture the main points. Write succintly, no need to have complete sentences or good \\\n",
    "grammar. This will be consumed by someone synthesizing a report, so it's vital you capture the \\\n",
    "essence and ignore any fluff. Do not include any additional commentary other than the summary itself.\"\n",
    "\n",
    "search_agent = Agent(\n",
    "    name=\"Search agent\",\n",
    "    instructions=INSTRUCTIONS,\n",
    "    tools=[WebSearchTool(search_context_size=\"low\")],\n",
    "    model=\"gpt-4o-mini\",\n",
    "    model_settings=ModelSettings(tool_choice=\"required\"), # Required to enable tools\n",
    ")"
   ]
  },
  {
   "cell_type": "code",
   "execution_count": 17,
   "id": "da5b5355",
   "metadata": {},
   "outputs": [
    {
     "data": {
      "text/markdown": [
       "As of June 2025, several AI agent frameworks have emerged, each offering unique capabilities for developing intelligent systems:\n",
       "\n",
       "- **AutoGen**: Developed by Microsoft, AutoGen is an open-source framework designed for creating multi-agent AI applications. Its architecture comprises three layers: Core, AgentChat, and Extensions, facilitating scalable and distributed agent networks. AutoGen also provides tools like AutoGen Bench for performance assessment and AutoGen Studio for no-code agent development. ([ibm.com](https://www.ibm.com/think/insights/top-ai-agent-frameworks?utm_source=openai))\n",
       "\n",
       "- **LangChain**: LangChain enables developers to build complex AI workflows by chaining prompts, memory, and tools into coherent pipelines. It supports multiple large language models (LLMs) and APIs, making it suitable for applications like conversational agents and retrieval-augmented systems. ([lekha-bhan88.medium.com](https://lekha-bhan88.medium.com/top-5-agentic-ai-frameworks-to-watch-in-2025-9d51b2b652c0?utm_source=openai))\n",
       "\n",
       "- **LangGraph**: LangGraph utilizes graph-based architectures to manage stateful AI workflows, ideal for orchestrating complex multi-agent systems. It offers a visual approach to managing agent interactions and dependencies, beneficial for industries requiring precise task execution, such as healthcare and supply chain management. ([blog.mechcloud.io](https://blog.mechcloud.io/top-5-ai-agent-frameworks-in-2025?utm_source=openai))\n",
       "\n",
       "- **CrewAI**: CrewAI focuses on multi-agent collaboration, treating agents as a \"crew\" of \"workers\" to promote teamwork in AI systems. Its role-based architecture is particularly useful for applications demanding human-AI or multi-agent cooperation, such as virtual assistants and personalized learning platforms. ([blog.mechcloud.io](https://blog.mechcloud.io/top-5-ai-agent-frameworks-in-2025?utm_source=openai))\n",
       "\n",
       "- **Eliza**: Eliza is an open-source, Web3-friendly AI agent framework that integrates seamlessly with blockchain applications. It allows developers to create AI agents capable of interacting with smart contracts and blockchain data, expanding the potential of decentralized applications. ([arxiv.org](https://arxiv.org/abs/2501.06781?utm_source=openai))\n",
       "\n",
       "- **AutoAgent**: AutoAgent is a fully automated, zero-code framework enabling users to create and deploy LLM agents through natural language alone. It comprises components like Agentic System Utilities, LLM-powered Actionable Engine, Self-Managing File System, and Self-Play Agent Customization module, facilitating efficient agent development without coding requirements. ([arxiv.org](https://arxiv.org/abs/2502.05957?utm_source=openai))\n",
       "\n",
       "- **AgentLite**: AgentLite is a lightweight library designed to simplify the creation and evaluation of task-oriented LLM agent systems. It offers a user-friendly platform for innovating LLM agent reasoning, architectures, and applications, enhancing the development of multi-agent systems. ([arxiv.org](https://arxiv.org/abs/2402.15538?utm_source=openai))\n",
       "\n",
       "These frameworks reflect the rapid advancements in AI agent development, catering to diverse applications and user expertise levels. "
      ],
      "text/plain": [
       "<IPython.core.display.Markdown object>"
      ]
     },
     "metadata": {},
     "output_type": "display_data"
    }
   ],
   "source": [
    "message = \"Latest AI Agent frameworks in 2025\"\n",
    "\n",
    "with trace(\"Web Search\"):\n",
    "    result = await Runner.run(search_agent, message)\n",
    "\n",
    "display(Markdown(result.final_output))"
   ]
  },
  {
   "cell_type": "code",
   "execution_count": 18,
   "id": "018abd12",
   "metadata": {},
   "outputs": [],
   "source": [
    "HOW_MANY_SEARCHES = 2\n",
    "\n",
    "INSTRUCTIONS = f\"You are a helpful research assistant. Given a query, come up with a set of web searches \\\n",
    "to perform to best answer the query. Output {HOW_MANY_SEARCHES} terms to query for.\"\n",
    "\n",
    "# Use Pydantic to define the Schema of our response - this is known as \"Structured Outputs\"\n",
    "\n",
    "class WebSearchItem(BaseModel):\n",
    "    reason: str = Field(\n",
    "        description=\"Your reasoning for why this search is important to the query.\"\n",
    "    )\n",
    "    query: str = Field(\n",
    "        description=\"The search term to use for the web search.\"\n",
    "    )\n",
    "\n",
    "\n",
    "class WebSearchPlan(BaseModel):\n",
    "    searches: list[WebSearchItem] = Field(\n",
    "        description=\"A list of web searches to perform to best answer the query.\"\n",
    "    )\n",
    "\n",
    "# Planner Agent: Taking a query and coming up with a handful of searches that it should run\n",
    "# based on that query, in order to do some deep research\n",
    "\n",
    "planner_agent = Agent(\n",
    "    name=\"Planner Agent\",\n",
    "    instructions=INSTRUCTIONS,\n",
    "    model=\"gpt-4o-mini\",\n",
    "    output_type=WebSearchPlan, # Structured output\n",
    ")"
   ]
  },
  {
   "cell_type": "code",
   "execution_count": 19,
   "id": "0e8dc8c2",
   "metadata": {},
   "outputs": [
    {
     "name": "stdout",
     "output_type": "stream",
     "text": [
      "searches=[WebSearchItem(reason='To find an overview of current AI agent frameworks developed or popularized in 2025.', query='AI agent frameworks 2025'), WebSearchItem(reason='To gather insights on specific technologies, companies, and advancements in AI agent frameworks within the year 2025.', query='latest AI technologies 2025')]\n"
     ]
    }
   ],
   "source": [
    "message = \"Latest AI Agent frameworks in 2025\"\n",
    "\n",
    "with trace(\"Search\"):\n",
    "    result = await Runner.run(planner_agent, message)\n",
    "    print(result.final_output)"
   ]
  },
  {
   "cell_type": "code",
   "execution_count": 20,
   "id": "7b469ccd",
   "metadata": {},
   "outputs": [],
   "source": [
    "@function_tool\n",
    "def send_email(subject: str, html_body: str) -> Dict[str, str]:\n",
    "    \"\"\"Send out an email with the given subject and HTML body\"\"\"\n",
    "    sg = sendgrid.SendGridAPIClient(api_key=os.environ.get('SENDGRID_API_KEY'))\n",
    "    from_email = Email(\"anh.leduy04@hcmut.edu.vn\")\n",
    "    to_email = To(\"duyanhlucas302@gmail.com\")\n",
    "    content = Content(\"text/html\", html_body)\n",
    "    mail = Mail(from_email, to_email, subject, content).get()\n",
    "    response = sg.client.mail.send.post(request_body=mail)\n",
    "    return {\"status\": \"success\"}"
   ]
  },
  {
   "cell_type": "code",
   "execution_count": 21,
   "id": "ed13a57d",
   "metadata": {},
   "outputs": [
    {
     "data": {
      "text/plain": [
       "FunctionTool(name='send_email', description='Send out an email with the given subject and HTML body', params_json_schema={'properties': {'subject': {'title': 'Subject', 'type': 'string'}, 'html_body': {'title': 'Html Body', 'type': 'string'}}, 'required': ['subject', 'html_body'], 'title': 'send_email_args', 'type': 'object', 'additionalProperties': False}, on_invoke_tool=<function function_tool.<locals>._create_function_tool.<locals>._on_invoke_tool at 0x10ecbdab0>, strict_json_schema=True)"
      ]
     },
     "execution_count": 21,
     "metadata": {},
     "output_type": "execute_result"
    }
   ],
   "source": [
    "send_email"
   ]
  },
  {
   "cell_type": "code",
   "execution_count": 22,
   "id": "9fd35fd8",
   "metadata": {},
   "outputs": [],
   "source": [
    "# Email agent\n",
    "INSTRUCTIONS = \"\"\"You are able to send a nicely formatted HTML email based on a detailed report.\n",
    "You will be provided with a detailed report. You should use your tool to send one email, providing the \n",
    "report converted into clean, well presented HTML with an appropriate subject line.\"\"\"\n",
    "\n",
    "email_agent = Agent(\n",
    "    name=\"Email agent\",\n",
    "    instructions=INSTRUCTIONS,\n",
    "    tools=[send_email],\n",
    "    model=\"gpt-4o-mini\",\n",
    ")"
   ]
  },
  {
   "cell_type": "code",
   "execution_count": 23,
   "id": "678c9041",
   "metadata": {},
   "outputs": [],
   "source": [
    "# Report writer agent\n",
    "INSTRUCTIONS = (\n",
    "    \"You are a senior researcher tasked with writing a cohesive report for a research query. \"\n",
    "    \"You will be provided with the original query, and some initial research done by a research assistant.\\n\"\n",
    "    \"You should first come up with an outline for the report that describes the structure and \"\n",
    "    \"flow of the report. Then, generate the report and return that as your final output.\\n\"\n",
    "    \"The final output should be in markdown format, and it should be lengthy and detailed. Aim \"\n",
    "    \"for 5-10 pages of content, at least 1000 words.\"\n",
    ")\n",
    "\n",
    "\n",
    "class ReportData(BaseModel):\n",
    "    short_summary: str = Field(\n",
    "        description=\"A short 2-3 sentence summary of the findings.\"\n",
    "    )\n",
    "\n",
    "    markdown_report: str = Field(\n",
    "        description=\"The final report\"\n",
    "    )\n",
    "\n",
    "    follow_up_questions: list[str] = Field(\n",
    "        description=\"Suggested topics to research further\"\n",
    "    )\n",
    "\n",
    "\n",
    "writer_agent = Agent(\n",
    "    name=\"WriterAgent\",\n",
    "    instructions=INSTRUCTIONS,\n",
    "    model=\"gpt-4o-mini\",\n",
    "    output_type=ReportData,\n",
    ")"
   ]
  },
  {
   "cell_type": "markdown",
   "id": "b2c0ac90",
   "metadata": {},
   "source": [
    "The next 3 functions will plan and execute the search, using `planner_agent` and `search_agent`"
   ]
  },
  {
   "cell_type": "code",
   "execution_count": null,
   "id": "018df882",
   "metadata": {},
   "outputs": [],
   "source": [
    "async def plan_searches(query: str):\n",
    "    \"\"\"Use the planner_agent to plan which searches to run for the query\"\"\"\n",
    "    print(\"Planning searches...\")\n",
    "    result = await Runner.run(planner_agent, f\"Query: {query}\")\n",
    "    print(f\"Will perform {len(result.final_output.searches)} searches\")\n",
    "    return result.final_output\n",
    "\n",
    "async def perform_searches(search_plan: WebSearchPlan):\n",
    "    \"\"\"Call search() for each item in the search plan\"\"\"\n",
    "    print(\"Searching...\")\n",
    "    tasks = [asyncio.create_task(search(item)) for item in search_plan.searches]\n",
    "    results = await asyncio.gather(*tasks)\n",
    "    print(\"Finished searching\")\n",
    "    return results\n",
    "\n",
    "async def search(item: WebSearchItem):\n",
    "    \"\"\"Use the search agent to run a web search for each item in the search plan\"\"\"\n",
    "    input = f\"Search term: {item.query}\\nReason for searching: {item.reason}\"\n",
    "    result = await Runner.run(search_agent, input)\n",
    "    return result.final_output"
   ]
  },
  {
   "cell_type": "markdown",
   "id": "12945dc3",
   "metadata": {},
   "source": [
    "The next 2 functions write a report (`writer_agent`) and send email (`email_agent`)"
   ]
  },
  {
   "cell_type": "code",
   "execution_count": 27,
   "id": "594bdd7a",
   "metadata": {},
   "outputs": [],
   "source": [
    "async def write_report(query: str, search_results: list[str]):\n",
    "    \"\"\"Use the writer agent to write a report based on the search results\"\"\"\n",
    "    print(\"Thinking about report...\")\n",
    "    input = f\"Original query: {query}\\nSummarized search results: {search_results}\"\n",
    "    result = await Runner.run(writer_agent, input)\n",
    "    print(\"Finished writing report\")\n",
    "    return result.final_output\n",
    "\n",
    "async def send_email(report: ReportData):\n",
    "    \"\"\"Use the email agent to send an email with the report\"\"\"\n",
    "    print(\"Writing email...\")\n",
    "    result = await Runner.run(email_agent, report.markdown_report)\n",
    "    print(\"Email sent\")\n",
    "    return report"
   ]
  },
  {
   "cell_type": "markdown",
   "id": "77cb58fd",
   "metadata": {},
   "source": [
    "Let's go"
   ]
  },
  {
   "cell_type": "code",
   "execution_count": 28,
   "id": "a247e177",
   "metadata": {},
   "outputs": [
    {
     "name": "stdout",
     "output_type": "stream",
     "text": [
      "Starting research...\n",
      "Planning searches...\n",
      "Will perform 2 searches\n",
      "Searching...\n",
      "Finished searching\n",
      "Thinking about report...\n",
      "Finished writing report\n",
      "Writing email...\n",
      "Email sent\n",
      "Done!\n"
     ]
    }
   ],
   "source": [
    "query =\"Latest AI Agent frameworks in 2025\"\n",
    "\n",
    "with trace(\"Research trace\"):\n",
    "    print(\"Starting research...\")\n",
    "    search_plan = await plan_searches(query)\n",
    "    search_results = await perform_searches(search_plan)\n",
    "    report = await write_report(query, search_results)\n",
    "    await send_email(report)  \n",
    "    print(\"Done!\")"
   ]
  }
 ],
 "metadata": {
  "kernelspec": {
   "display_name": ".venv",
   "language": "python",
   "name": "python3"
  },
  "language_info": {
   "codemirror_mode": {
    "name": "ipython",
    "version": 3
   },
   "file_extension": ".py",
   "mimetype": "text/x-python",
   "name": "python",
   "nbconvert_exporter": "python",
   "pygments_lexer": "ipython3",
   "version": "3.10.17"
  }
 },
 "nbformat": 4,
 "nbformat_minor": 5
}
